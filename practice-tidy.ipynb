{
 "cells": [
  {
   "cell_type": "code",
   "execution_count": 2,
   "metadata": {},
   "outputs": [
    {
     "data": {
      "text/plain": [
       "[1, 2, 3, 4, 5, 6, 7, 10, 15, 20]"
      ]
     },
     "execution_count": 2,
     "metadata": {},
     "output_type": "execute_result"
    }
   ],
   "source": [
    "old_lst = [1, 2, 3, 4, 5, 6, 7]\n",
    "new_lst = [*old_lst, 10, 15, 20]\n",
    "new_lst"
   ]
  },
  {
   "cell_type": "code",
   "execution_count": 4,
   "metadata": {},
   "outputs": [
    {
     "data": {
      "text/plain": [
       "[1, 2, 3, 4, 5, 6, 7, 10, 15, 20]"
      ]
     },
     "execution_count": 4,
     "metadata": {},
     "output_type": "execute_result"
    }
   ],
   "source": [
    "old_lst = [1, 2, 3, 4, 5, 6, 7]\n",
    "new_lst = old_lst + [10, 15, 20]\n",
    "new_lst"
   ]
  },
  {
   "cell_type": "code",
   "execution_count": 1,
   "metadata": {},
   "outputs": [],
   "source": [
    "import pandas as pd\n",
    "from env import user, host, password, get_connection\n"
   ]
  },
  {
   "cell_type": "code",
   "execution_count": 3,
   "metadata": {},
   "outputs": [],
   "source": [
    "url = get_connection(user, password, host, \"tidy_data\")\n",
    "query = ''' \n",
    "SELECT * \n",
    "FROM sales\n",
    "'''\n"
   ]
  },
  {
   "cell_type": "code",
   "execution_count": 4,
   "metadata": {},
   "outputs": [],
   "source": [
    "sales_df = pd.read_sql(query, url)\n"
   ]
  },
  {
   "cell_type": "code",
   "execution_count": 5,
   "metadata": {},
   "outputs": [
    {
     "data": {
      "text/html": [
       "<div>\n",
       "<style scoped>\n",
       "    .dataframe tbody tr th:only-of-type {\n",
       "        vertical-align: middle;\n",
       "    }\n",
       "\n",
       "    .dataframe tbody tr th {\n",
       "        vertical-align: top;\n",
       "    }\n",
       "\n",
       "    .dataframe thead th {\n",
       "        text-align: right;\n",
       "    }\n",
       "</style>\n",
       "<table border=\"1\" class=\"dataframe\">\n",
       "  <thead>\n",
       "    <tr style=\"text-align: right;\">\n",
       "      <th></th>\n",
       "      <th>Product</th>\n",
       "      <th>2016 Sales</th>\n",
       "      <th>2016 PPU</th>\n",
       "      <th>2017 Sales</th>\n",
       "      <th>2017 PPU</th>\n",
       "      <th>2018 Sales</th>\n",
       "      <th>2018 PPU</th>\n",
       "    </tr>\n",
       "  </thead>\n",
       "  <tbody>\n",
       "    <tr>\n",
       "      <th>0</th>\n",
       "      <td>A</td>\n",
       "      <td>673</td>\n",
       "      <td>5</td>\n",
       "      <td>231</td>\n",
       "      <td>7</td>\n",
       "      <td>173</td>\n",
       "      <td>9</td>\n",
       "    </tr>\n",
       "    <tr>\n",
       "      <th>1</th>\n",
       "      <td>B</td>\n",
       "      <td>259</td>\n",
       "      <td>3</td>\n",
       "      <td>748</td>\n",
       "      <td>5</td>\n",
       "      <td>186</td>\n",
       "      <td>8</td>\n",
       "    </tr>\n",
       "    <tr>\n",
       "      <th>2</th>\n",
       "      <td>C</td>\n",
       "      <td>644</td>\n",
       "      <td>3</td>\n",
       "      <td>863</td>\n",
       "      <td>5</td>\n",
       "      <td>632</td>\n",
       "      <td>5</td>\n",
       "    </tr>\n",
       "    <tr>\n",
       "      <th>3</th>\n",
       "      <td>D</td>\n",
       "      <td>508</td>\n",
       "      <td>9</td>\n",
       "      <td>356</td>\n",
       "      <td>11</td>\n",
       "      <td>347</td>\n",
       "      <td>14</td>\n",
       "    </tr>\n",
       "  </tbody>\n",
       "</table>\n",
       "</div>"
      ],
      "text/plain": [
       "  Product  2016 Sales  2016 PPU  2017 Sales  2017 PPU  2018 Sales  2018 PPU\n",
       "0       A         673         5         231         7         173         9\n",
       "1       B         259         3         748         5         186         8\n",
       "2       C         644         3         863         5         632         5\n",
       "3       D         508         9         356        11         347        14"
      ]
     },
     "execution_count": 5,
     "metadata": {},
     "output_type": "execute_result"
    }
   ],
   "source": [
    "# let's check the dataframe imported correctly \n",
    "sales_df.head()"
   ]
  },
  {
   "cell_type": "code",
   "execution_count": null,
   "metadata": {},
   "outputs": [],
   "source": [
    "# Initial observations from the \"sales\" dataset include:\n",
    "# Multi-column names (e.g., 2016 Sales...could be split into: \"2016\" and \"Sales\")\n",
    "# Year, Sale, and PPU can be made into three (3) distinct columns"
   ]
  },
  {
   "cell_type": "code",
   "execution_count": 6,
   "metadata": {},
   "outputs": [
    {
     "data": {
      "text/plain": [
       "(4, 7)"
      ]
     },
     "execution_count": 6,
     "metadata": {},
     "output_type": "execute_result"
    }
   ],
   "source": [
    "# let's check the shape of the dataset and subseuently, the info. \n",
    "\n",
    "sales_df.shape \n",
    "# 4 rows by\n",
    "# 7 column dataset"
   ]
  },
  {
   "cell_type": "code",
   "execution_count": 7,
   "metadata": {},
   "outputs": [
    {
     "name": "stdout",
     "output_type": "stream",
     "text": [
      "<class 'pandas.core.frame.DataFrame'>\n",
      "RangeIndex: 4 entries, 0 to 3\n",
      "Data columns (total 7 columns):\n",
      " #   Column      Non-Null Count  Dtype \n",
      "---  ------      --------------  ----- \n",
      " 0   Product     4 non-null      object\n",
      " 1   2016 Sales  4 non-null      int64 \n",
      " 2   2016 PPU    4 non-null      int64 \n",
      " 3   2017 Sales  4 non-null      int64 \n",
      " 4   2017 PPU    4 non-null      int64 \n",
      " 5   2018 Sales  4 non-null      int64 \n",
      " 6   2018 PPU    4 non-null      int64 \n",
      "dtypes: int64(6), object(1)\n",
      "memory usage: 352.0+ bytes\n"
     ]
    }
   ],
   "source": [
    "sales_df.info()"
   ]
  },
  {
   "cell_type": "code",
   "execution_count": 8,
   "metadata": {},
   "outputs": [
    {
     "data": {
      "text/html": [
       "<div>\n",
       "<style scoped>\n",
       "    .dataframe tbody tr th:only-of-type {\n",
       "        vertical-align: middle;\n",
       "    }\n",
       "\n",
       "    .dataframe tbody tr th {\n",
       "        vertical-align: top;\n",
       "    }\n",
       "\n",
       "    .dataframe thead th {\n",
       "        text-align: right;\n",
       "    }\n",
       "</style>\n",
       "<table border=\"1\" class=\"dataframe\">\n",
       "  <thead>\n",
       "    <tr style=\"text-align: right;\">\n",
       "      <th></th>\n",
       "      <th>Product</th>\n",
       "      <th>2016 Sales</th>\n",
       "      <th>2016 PPU</th>\n",
       "      <th>2017 Sales</th>\n",
       "      <th>2017 PPU</th>\n",
       "      <th>2018 Sales</th>\n",
       "      <th>2018 PPU</th>\n",
       "    </tr>\n",
       "  </thead>\n",
       "  <tbody>\n",
       "    <tr>\n",
       "      <th>0</th>\n",
       "      <td>A</td>\n",
       "      <td>673</td>\n",
       "      <td>5</td>\n",
       "      <td>231</td>\n",
       "      <td>7</td>\n",
       "      <td>173</td>\n",
       "      <td>9</td>\n",
       "    </tr>\n",
       "    <tr>\n",
       "      <th>1</th>\n",
       "      <td>B</td>\n",
       "      <td>259</td>\n",
       "      <td>3</td>\n",
       "      <td>748</td>\n",
       "      <td>5</td>\n",
       "      <td>186</td>\n",
       "      <td>8</td>\n",
       "    </tr>\n",
       "    <tr>\n",
       "      <th>2</th>\n",
       "      <td>C</td>\n",
       "      <td>644</td>\n",
       "      <td>3</td>\n",
       "      <td>863</td>\n",
       "      <td>5</td>\n",
       "      <td>632</td>\n",
       "      <td>5</td>\n",
       "    </tr>\n",
       "    <tr>\n",
       "      <th>3</th>\n",
       "      <td>D</td>\n",
       "      <td>508</td>\n",
       "      <td>9</td>\n",
       "      <td>356</td>\n",
       "      <td>11</td>\n",
       "      <td>347</td>\n",
       "      <td>14</td>\n",
       "    </tr>\n",
       "  </tbody>\n",
       "</table>\n",
       "</div>"
      ],
      "text/plain": [
       "  Product  2016 Sales  2016 PPU  2017 Sales  2017 PPU  2018 Sales  2018 PPU\n",
       "0       A         673         5         231         7         173         9\n",
       "1       B         259         3         748         5         186         8\n",
       "2       C         644         3         863         5         632         5\n",
       "3       D         508         9         356        11         347        14"
      ]
     },
     "execution_count": 8,
     "metadata": {},
     "output_type": "execute_result"
    }
   ],
   "source": [
    "sales_df.head()"
   ]
  },
  {
   "cell_type": "code",
   "execution_count": 14,
   "metadata": {},
   "outputs": [
    {
     "data": {
      "text/plain": [
       "2016 Sales    4\n",
       "2016 PPU      3\n",
       "2017 Sales    4\n",
       "2017 PPU      3\n",
       "2018 Sales    4\n",
       "2018 PPU      4\n",
       "dtype: int64"
      ]
     },
     "execution_count": 14,
     "metadata": {},
     "output_type": "execute_result"
    }
   ],
   "source": [
    "# let's first mels the table; keeping the \"Product\" column as the id_vars parameter"
   ]
  },
  {
   "cell_type": "code",
   "execution_count": null,
   "metadata": {},
   "outputs": [],
   "source": []
  }
 ],
 "metadata": {
  "kernelspec": {
   "display_name": "Python 3.9.12 ('base')",
   "language": "python",
   "name": "python3"
  },
  "language_info": {
   "codemirror_mode": {
    "name": "ipython",
    "version": 3
   },
   "file_extension": ".py",
   "mimetype": "text/x-python",
   "name": "python",
   "nbconvert_exporter": "python",
   "pygments_lexer": "ipython3",
   "version": "3.9.12"
  },
  "orig_nbformat": 4,
  "vscode": {
   "interpreter": {
    "hash": "40d3a090f54c6569ab1632332b64b2c03c39dcf918b08424e98f38b5ae0af88f"
   }
  }
 },
 "nbformat": 4,
 "nbformat_minor": 2
}

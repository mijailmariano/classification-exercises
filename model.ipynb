{
 "cells": [
  {
   "cell_type": "markdown",
   "metadata": {},
   "source": [
    "### Decision Tree Exercises\n",
    "    start: thursday, July 7th 2022\n",
    "\n",
    "----"
   ]
  },
  {
   "cell_type": "code",
   "execution_count": 797,
   "metadata": {},
   "outputs": [],
   "source": [
    "# importing DS libraries/modules\n",
    "\n",
    "import pandas as pd\n",
    "import numpy as np\n",
    "import matplotlib.pyplot as plt\n",
    "import scipy.stats as stats\n",
    "import seaborn as sns\n",
    "import env\n",
    "from env import user, password, host, get_connection\n",
    "\n",
    "from acquire import get_titanic_data"
   ]
  },
  {
   "cell_type": "code",
   "execution_count": 798,
   "metadata": {},
   "outputs": [],
   "source": [
    "# Decision Tree and Model Evaluation Imports\n",
    "\n",
    "from sklearn.tree import DecisionTreeClassifier, plot_tree, export_text\n",
    "from sklearn.model_selection import train_test_split\n",
    "from sklearn.metrics import classification_report, confusion_matrix, plot_confusion_matrix"
   ]
  },
  {
   "cell_type": "markdown",
   "metadata": {},
   "source": [
    "----\n",
    "### Exercise #1:\n",
    "\n",
    "**Using the titanic data, in your classification-exercises repository, create a notebook, model.ipynb where you will do the following:**\n",
    "\n",
    "1. What is your baseline prediction? \n",
    "2. What is your baseline accuracy? remember: your baseline prediction for a classification problem is predicting the most prevelant class in the training dataset (the mode). \n",
    "3. When you make those predictions, what is your accuracy? This is your baseline accuracy."
   ]
  },
  {
   "cell_type": "markdown",
   "metadata": {},
   "source": [
    "----\n",
    "#### <u>Dataset familiarization / cleaning:</u>"
   ]
  },
  {
   "cell_type": "code",
   "execution_count": 799,
   "metadata": {},
   "outputs": [
    {
     "data": {
      "text/html": [
       "<div>\n",
       "<style scoped>\n",
       "    .dataframe tbody tr th:only-of-type {\n",
       "        vertical-align: middle;\n",
       "    }\n",
       "\n",
       "    .dataframe tbody tr th {\n",
       "        vertical-align: top;\n",
       "    }\n",
       "\n",
       "    .dataframe thead th {\n",
       "        text-align: right;\n",
       "    }\n",
       "</style>\n",
       "<table border=\"1\" class=\"dataframe\">\n",
       "  <thead>\n",
       "    <tr style=\"text-align: right;\">\n",
       "      <th></th>\n",
       "      <th>passenger_id</th>\n",
       "      <th>survived</th>\n",
       "      <th>pclass</th>\n",
       "      <th>sex</th>\n",
       "      <th>age</th>\n",
       "      <th>sibsp</th>\n",
       "      <th>parch</th>\n",
       "      <th>fare</th>\n",
       "      <th>embarked</th>\n",
       "      <th>class</th>\n",
       "      <th>deck</th>\n",
       "      <th>embark_town</th>\n",
       "      <th>alone</th>\n",
       "    </tr>\n",
       "  </thead>\n",
       "  <tbody>\n",
       "    <tr>\n",
       "      <th>0</th>\n",
       "      <td>0</td>\n",
       "      <td>0</td>\n",
       "      <td>3</td>\n",
       "      <td>male</td>\n",
       "      <td>22.0</td>\n",
       "      <td>1</td>\n",
       "      <td>0</td>\n",
       "      <td>7.2500</td>\n",
       "      <td>S</td>\n",
       "      <td>Third</td>\n",
       "      <td>NaN</td>\n",
       "      <td>Southampton</td>\n",
       "      <td>0</td>\n",
       "    </tr>\n",
       "    <tr>\n",
       "      <th>1</th>\n",
       "      <td>1</td>\n",
       "      <td>1</td>\n",
       "      <td>1</td>\n",
       "      <td>female</td>\n",
       "      <td>38.0</td>\n",
       "      <td>1</td>\n",
       "      <td>0</td>\n",
       "      <td>71.2833</td>\n",
       "      <td>C</td>\n",
       "      <td>First</td>\n",
       "      <td>C</td>\n",
       "      <td>Cherbourg</td>\n",
       "      <td>0</td>\n",
       "    </tr>\n",
       "    <tr>\n",
       "      <th>2</th>\n",
       "      <td>2</td>\n",
       "      <td>1</td>\n",
       "      <td>3</td>\n",
       "      <td>female</td>\n",
       "      <td>26.0</td>\n",
       "      <td>0</td>\n",
       "      <td>0</td>\n",
       "      <td>7.9250</td>\n",
       "      <td>S</td>\n",
       "      <td>Third</td>\n",
       "      <td>NaN</td>\n",
       "      <td>Southampton</td>\n",
       "      <td>1</td>\n",
       "    </tr>\n",
       "    <tr>\n",
       "      <th>3</th>\n",
       "      <td>3</td>\n",
       "      <td>1</td>\n",
       "      <td>1</td>\n",
       "      <td>female</td>\n",
       "      <td>35.0</td>\n",
       "      <td>1</td>\n",
       "      <td>0</td>\n",
       "      <td>53.1000</td>\n",
       "      <td>S</td>\n",
       "      <td>First</td>\n",
       "      <td>C</td>\n",
       "      <td>Southampton</td>\n",
       "      <td>0</td>\n",
       "    </tr>\n",
       "    <tr>\n",
       "      <th>4</th>\n",
       "      <td>4</td>\n",
       "      <td>0</td>\n",
       "      <td>3</td>\n",
       "      <td>male</td>\n",
       "      <td>35.0</td>\n",
       "      <td>0</td>\n",
       "      <td>0</td>\n",
       "      <td>8.0500</td>\n",
       "      <td>S</td>\n",
       "      <td>Third</td>\n",
       "      <td>NaN</td>\n",
       "      <td>Southampton</td>\n",
       "      <td>1</td>\n",
       "    </tr>\n",
       "  </tbody>\n",
       "</table>\n",
       "</div>"
      ],
      "text/plain": [
       "   passenger_id  survived  pclass     sex   age  sibsp  parch     fare  \\\n",
       "0             0         0       3    male  22.0      1      0   7.2500   \n",
       "1             1         1       1  female  38.0      1      0  71.2833   \n",
       "2             2         1       3  female  26.0      0      0   7.9250   \n",
       "3             3         1       1  female  35.0      1      0  53.1000   \n",
       "4             4         0       3    male  35.0      0      0   8.0500   \n",
       "\n",
       "  embarked  class deck  embark_town  alone  \n",
       "0        S  Third  NaN  Southampton      0  \n",
       "1        C  First    C    Cherbourg      0  \n",
       "2        S  Third  NaN  Southampton      1  \n",
       "3        S  First    C  Southampton      0  \n",
       "4        S  Third  NaN  Southampton      1  "
      ]
     },
     "execution_count": 799,
     "metadata": {},
     "output_type": "execute_result"
    }
   ],
   "source": [
    "# importing titanic dataset from \"acquire.py\" file\n",
    "\n",
    "titanic_df = get_titanic_data()\n",
    "titanic_df.head()"
   ]
  },
  {
   "cell_type": "code",
   "execution_count": 800,
   "metadata": {},
   "outputs": [
    {
     "name": "stdout",
     "output_type": "stream",
     "text": [
      "<class 'pandas.core.frame.DataFrame'>\n",
      "Int64Index: 891 entries, 0 to 890\n",
      "Data columns (total 13 columns):\n",
      " #   Column        Non-Null Count  Dtype  \n",
      "---  ------        --------------  -----  \n",
      " 0   passenger_id  891 non-null    int64  \n",
      " 1   survived      891 non-null    int64  \n",
      " 2   pclass        891 non-null    int64  \n",
      " 3   sex           891 non-null    object \n",
      " 4   age           714 non-null    float64\n",
      " 5   sibsp         891 non-null    int64  \n",
      " 6   parch         891 non-null    int64  \n",
      " 7   fare          891 non-null    float64\n",
      " 8   embarked      889 non-null    object \n",
      " 9   class         891 non-null    object \n",
      " 10  deck          203 non-null    object \n",
      " 11  embark_town   889 non-null    object \n",
      " 12  alone         891 non-null    int64  \n",
      "dtypes: float64(2), int64(6), object(5)\n",
      "memory usage: 97.5+ KB\n"
     ]
    }
   ],
   "source": [
    "titanic_df.info()"
   ]
  },
  {
   "cell_type": "code",
   "execution_count": 801,
   "metadata": {},
   "outputs": [
    {
     "data": {
      "text/plain": [
       "passenger_id    0.00\n",
       "survived        0.00\n",
       "pclass          0.00\n",
       "sex             0.00\n",
       "age             0.20\n",
       "sibsp           0.00\n",
       "parch           0.00\n",
       "fare            0.00\n",
       "embarked        0.00\n",
       "class           0.00\n",
       "deck            0.77\n",
       "embark_town     0.00\n",
       "alone           0.00\n",
       "dtype: float64"
      ]
     },
     "execution_count": 801,
     "metadata": {},
     "output_type": "execute_result"
    }
   ],
   "source": [
    "# checking the percentage of missing values per column - where:\n",
    "# ~20% of \"age\" column values are missing\n",
    "# ~77% of \"deck\" column values are missing\n",
    "\n",
    "# i will create a copy of the dataframe and elect to remove these columns due to the relatively high percentage of NULL values\n",
    "\n",
    "round(titanic_df.isna().mean(), 2)"
   ]
  },
  {
   "cell_type": "code",
   "execution_count": 802,
   "metadata": {},
   "outputs": [
    {
     "data": {
      "text/html": [
       "<div>\n",
       "<style scoped>\n",
       "    .dataframe tbody tr th:only-of-type {\n",
       "        vertical-align: middle;\n",
       "    }\n",
       "\n",
       "    .dataframe tbody tr th {\n",
       "        vertical-align: top;\n",
       "    }\n",
       "\n",
       "    .dataframe thead th {\n",
       "        text-align: right;\n",
       "    }\n",
       "</style>\n",
       "<table border=\"1\" class=\"dataframe\">\n",
       "  <thead>\n",
       "    <tr style=\"text-align: right;\">\n",
       "      <th></th>\n",
       "      <th>passenger_id</th>\n",
       "      <th>survived</th>\n",
       "      <th>pclass</th>\n",
       "      <th>sex</th>\n",
       "      <th>age</th>\n",
       "      <th>sibsp</th>\n",
       "      <th>parch</th>\n",
       "      <th>fare</th>\n",
       "      <th>embarked</th>\n",
       "      <th>class</th>\n",
       "      <th>deck</th>\n",
       "      <th>embark_town</th>\n",
       "      <th>alone</th>\n",
       "    </tr>\n",
       "  </thead>\n",
       "  <tbody>\n",
       "    <tr>\n",
       "      <th>0</th>\n",
       "      <td>0</td>\n",
       "      <td>0</td>\n",
       "      <td>3</td>\n",
       "      <td>male</td>\n",
       "      <td>22.0</td>\n",
       "      <td>1</td>\n",
       "      <td>0</td>\n",
       "      <td>7.2500</td>\n",
       "      <td>S</td>\n",
       "      <td>Third</td>\n",
       "      <td>NaN</td>\n",
       "      <td>Southampton</td>\n",
       "      <td>0</td>\n",
       "    </tr>\n",
       "    <tr>\n",
       "      <th>1</th>\n",
       "      <td>1</td>\n",
       "      <td>1</td>\n",
       "      <td>1</td>\n",
       "      <td>female</td>\n",
       "      <td>38.0</td>\n",
       "      <td>1</td>\n",
       "      <td>0</td>\n",
       "      <td>71.2833</td>\n",
       "      <td>C</td>\n",
       "      <td>First</td>\n",
       "      <td>C</td>\n",
       "      <td>Cherbourg</td>\n",
       "      <td>0</td>\n",
       "    </tr>\n",
       "    <tr>\n",
       "      <th>2</th>\n",
       "      <td>2</td>\n",
       "      <td>1</td>\n",
       "      <td>3</td>\n",
       "      <td>female</td>\n",
       "      <td>26.0</td>\n",
       "      <td>0</td>\n",
       "      <td>0</td>\n",
       "      <td>7.9250</td>\n",
       "      <td>S</td>\n",
       "      <td>Third</td>\n",
       "      <td>NaN</td>\n",
       "      <td>Southampton</td>\n",
       "      <td>1</td>\n",
       "    </tr>\n",
       "    <tr>\n",
       "      <th>3</th>\n",
       "      <td>3</td>\n",
       "      <td>1</td>\n",
       "      <td>1</td>\n",
       "      <td>female</td>\n",
       "      <td>35.0</td>\n",
       "      <td>1</td>\n",
       "      <td>0</td>\n",
       "      <td>53.1000</td>\n",
       "      <td>S</td>\n",
       "      <td>First</td>\n",
       "      <td>C</td>\n",
       "      <td>Southampton</td>\n",
       "      <td>0</td>\n",
       "    </tr>\n",
       "    <tr>\n",
       "      <th>4</th>\n",
       "      <td>4</td>\n",
       "      <td>0</td>\n",
       "      <td>3</td>\n",
       "      <td>male</td>\n",
       "      <td>35.0</td>\n",
       "      <td>0</td>\n",
       "      <td>0</td>\n",
       "      <td>8.0500</td>\n",
       "      <td>S</td>\n",
       "      <td>Third</td>\n",
       "      <td>NaN</td>\n",
       "      <td>Southampton</td>\n",
       "      <td>1</td>\n",
       "    </tr>\n",
       "  </tbody>\n",
       "</table>\n",
       "</div>"
      ],
      "text/plain": [
       "   passenger_id  survived  pclass     sex   age  sibsp  parch     fare  \\\n",
       "0             0         0       3    male  22.0      1      0   7.2500   \n",
       "1             1         1       1  female  38.0      1      0  71.2833   \n",
       "2             2         1       3  female  26.0      0      0   7.9250   \n",
       "3             3         1       1  female  35.0      1      0  53.1000   \n",
       "4             4         0       3    male  35.0      0      0   8.0500   \n",
       "\n",
       "  embarked  class deck  embark_town  alone  \n",
       "0        S  Third  NaN  Southampton      0  \n",
       "1        C  First    C    Cherbourg      0  \n",
       "2        S  Third  NaN  Southampton      1  \n",
       "3        S  First    C  Southampton      0  \n",
       "4        S  Third  NaN  Southampton      1  "
      ]
     },
     "execution_count": 802,
     "metadata": {},
     "output_type": "execute_result"
    }
   ],
   "source": [
    "# creating a copy of the titanic dataframe:\n",
    "\n",
    "titanic_copy = titanic_df.copy()\n",
    "titanic_copy.head()"
   ]
  },
  {
   "cell_type": "code",
   "execution_count": 803,
   "metadata": {},
   "outputs": [],
   "source": [
    "# also removing passenger_id (not needed for analysis), pclass (duplicated column), and embarked (duplicated column)\n",
    "\n",
    "titanic_copy = titanic_copy.drop(columns=[\"passenger_id\", \"age\", \"deck\", \"embarked\", \"pclass\"])"
   ]
  },
  {
   "cell_type": "code",
   "execution_count": 804,
   "metadata": {},
   "outputs": [
    {
     "data": {
      "text/html": [
       "<div>\n",
       "<style scoped>\n",
       "    .dataframe tbody tr th:only-of-type {\n",
       "        vertical-align: middle;\n",
       "    }\n",
       "\n",
       "    .dataframe tbody tr th {\n",
       "        vertical-align: top;\n",
       "    }\n",
       "\n",
       "    .dataframe thead th {\n",
       "        text-align: right;\n",
       "    }\n",
       "</style>\n",
       "<table border=\"1\" class=\"dataframe\">\n",
       "  <thead>\n",
       "    <tr style=\"text-align: right;\">\n",
       "      <th></th>\n",
       "      <th>survived</th>\n",
       "      <th>sex</th>\n",
       "      <th>sibsp</th>\n",
       "      <th>parch</th>\n",
       "      <th>fare</th>\n",
       "      <th>class</th>\n",
       "      <th>embark_town</th>\n",
       "      <th>alone</th>\n",
       "    </tr>\n",
       "  </thead>\n",
       "  <tbody>\n",
       "    <tr>\n",
       "      <th>0</th>\n",
       "      <td>0</td>\n",
       "      <td>male</td>\n",
       "      <td>1</td>\n",
       "      <td>0</td>\n",
       "      <td>7.2500</td>\n",
       "      <td>Third</td>\n",
       "      <td>Southampton</td>\n",
       "      <td>0</td>\n",
       "    </tr>\n",
       "    <tr>\n",
       "      <th>1</th>\n",
       "      <td>1</td>\n",
       "      <td>female</td>\n",
       "      <td>1</td>\n",
       "      <td>0</td>\n",
       "      <td>71.2833</td>\n",
       "      <td>First</td>\n",
       "      <td>Cherbourg</td>\n",
       "      <td>0</td>\n",
       "    </tr>\n",
       "    <tr>\n",
       "      <th>2</th>\n",
       "      <td>1</td>\n",
       "      <td>female</td>\n",
       "      <td>0</td>\n",
       "      <td>0</td>\n",
       "      <td>7.9250</td>\n",
       "      <td>Third</td>\n",
       "      <td>Southampton</td>\n",
       "      <td>1</td>\n",
       "    </tr>\n",
       "    <tr>\n",
       "      <th>3</th>\n",
       "      <td>1</td>\n",
       "      <td>female</td>\n",
       "      <td>1</td>\n",
       "      <td>0</td>\n",
       "      <td>53.1000</td>\n",
       "      <td>First</td>\n",
       "      <td>Southampton</td>\n",
       "      <td>0</td>\n",
       "    </tr>\n",
       "    <tr>\n",
       "      <th>4</th>\n",
       "      <td>0</td>\n",
       "      <td>male</td>\n",
       "      <td>0</td>\n",
       "      <td>0</td>\n",
       "      <td>8.0500</td>\n",
       "      <td>Third</td>\n",
       "      <td>Southampton</td>\n",
       "      <td>1</td>\n",
       "    </tr>\n",
       "  </tbody>\n",
       "</table>\n",
       "</div>"
      ],
      "text/plain": [
       "   survived     sex  sibsp  parch     fare  class  embark_town  alone\n",
       "0         0    male      1      0   7.2500  Third  Southampton      0\n",
       "1         1  female      1      0  71.2833  First    Cherbourg      0\n",
       "2         1  female      0      0   7.9250  Third  Southampton      1\n",
       "3         1  female      1      0  53.1000  First  Southampton      0\n",
       "4         0    male      0      0   8.0500  Third  Southampton      1"
      ]
     },
     "execution_count": 804,
     "metadata": {},
     "output_type": "execute_result"
    }
   ],
   "source": [
    "titanic_copy.head() # checks out"
   ]
  },
  {
   "cell_type": "code",
   "execution_count": 805,
   "metadata": {},
   "outputs": [
    {
     "data": {
      "text/plain": [
       "array([1, 0, 3, 4, 2, 5, 8])"
      ]
     },
     "execution_count": 805,
     "metadata": {},
     "output_type": "execute_result"
    }
   ],
   "source": [
    "titanic_copy[\"sibsp\"].unique()"
   ]
  },
  {
   "cell_type": "code",
   "execution_count": 806,
   "metadata": {},
   "outputs": [
    {
     "data": {
      "text/html": [
       "<div>\n",
       "<style scoped>\n",
       "    .dataframe tbody tr th:only-of-type {\n",
       "        vertical-align: middle;\n",
       "    }\n",
       "\n",
       "    .dataframe tbody tr th {\n",
       "        vertical-align: top;\n",
       "    }\n",
       "\n",
       "    .dataframe thead th {\n",
       "        text-align: right;\n",
       "    }\n",
       "</style>\n",
       "<table border=\"1\" class=\"dataframe\">\n",
       "  <thead>\n",
       "    <tr style=\"text-align: right;\">\n",
       "      <th></th>\n",
       "      <th>survived</th>\n",
       "      <th>sex</th>\n",
       "      <th>siblings_or_spouse</th>\n",
       "      <th>parent_or_children</th>\n",
       "      <th>fare</th>\n",
       "      <th>class</th>\n",
       "      <th>embark_town</th>\n",
       "      <th>alone</th>\n",
       "    </tr>\n",
       "  </thead>\n",
       "  <tbody>\n",
       "    <tr>\n",
       "      <th>0</th>\n",
       "      <td>0</td>\n",
       "      <td>male</td>\n",
       "      <td>1</td>\n",
       "      <td>0</td>\n",
       "      <td>7.2500</td>\n",
       "      <td>Third</td>\n",
       "      <td>Southampton</td>\n",
       "      <td>0</td>\n",
       "    </tr>\n",
       "    <tr>\n",
       "      <th>1</th>\n",
       "      <td>1</td>\n",
       "      <td>female</td>\n",
       "      <td>1</td>\n",
       "      <td>0</td>\n",
       "      <td>71.2833</td>\n",
       "      <td>First</td>\n",
       "      <td>Cherbourg</td>\n",
       "      <td>0</td>\n",
       "    </tr>\n",
       "    <tr>\n",
       "      <th>2</th>\n",
       "      <td>1</td>\n",
       "      <td>female</td>\n",
       "      <td>0</td>\n",
       "      <td>0</td>\n",
       "      <td>7.9250</td>\n",
       "      <td>Third</td>\n",
       "      <td>Southampton</td>\n",
       "      <td>1</td>\n",
       "    </tr>\n",
       "    <tr>\n",
       "      <th>3</th>\n",
       "      <td>1</td>\n",
       "      <td>female</td>\n",
       "      <td>1</td>\n",
       "      <td>0</td>\n",
       "      <td>53.1000</td>\n",
       "      <td>First</td>\n",
       "      <td>Southampton</td>\n",
       "      <td>0</td>\n",
       "    </tr>\n",
       "    <tr>\n",
       "      <th>4</th>\n",
       "      <td>0</td>\n",
       "      <td>male</td>\n",
       "      <td>0</td>\n",
       "      <td>0</td>\n",
       "      <td>8.0500</td>\n",
       "      <td>Third</td>\n",
       "      <td>Southampton</td>\n",
       "      <td>1</td>\n",
       "    </tr>\n",
       "  </tbody>\n",
       "</table>\n",
       "</div>"
      ],
      "text/plain": [
       "   survived     sex  siblings_or_spouse  parent_or_children     fare  class  \\\n",
       "0         0    male                   1                   0   7.2500  Third   \n",
       "1         1  female                   1                   0  71.2833  First   \n",
       "2         1  female                   0                   0   7.9250  Third   \n",
       "3         1  female                   1                   0  53.1000  First   \n",
       "4         0    male                   0                   0   8.0500  Third   \n",
       "\n",
       "   embark_town  alone  \n",
       "0  Southampton      0  \n",
       "1    Cherbourg      0  \n",
       "2  Southampton      1  \n",
       "3  Southampton      0  \n",
       "4  Southampton      1  "
      ]
     },
     "execution_count": 806,
     "metadata": {},
     "output_type": "execute_result"
    }
   ],
   "source": [
    "# renaming columns for clarity -- \n",
    "\n",
    "titanic_copy = titanic_copy.rename(columns = {\"sibsp\": \"siblings_or_spouse\", \"parch\": \"parent_or_children\"})\n",
    "titanic_copy.head()"
   ]
  },
  {
   "cell_type": "code",
   "execution_count": 807,
   "metadata": {},
   "outputs": [
    {
     "data": {
      "text/html": [
       "<div>\n",
       "<style scoped>\n",
       "    .dataframe tbody tr th:only-of-type {\n",
       "        vertical-align: middle;\n",
       "    }\n",
       "\n",
       "    .dataframe tbody tr th {\n",
       "        vertical-align: top;\n",
       "    }\n",
       "\n",
       "    .dataframe thead th {\n",
       "        text-align: right;\n",
       "    }\n",
       "</style>\n",
       "<table border=\"1\" class=\"dataframe\">\n",
       "  <thead>\n",
       "    <tr style=\"text-align: right;\">\n",
       "      <th></th>\n",
       "      <th>survived</th>\n",
       "      <th>sex</th>\n",
       "      <th>siblings_or_spouse</th>\n",
       "      <th>parent_or_children</th>\n",
       "      <th>fare</th>\n",
       "      <th>class</th>\n",
       "      <th>embark_town</th>\n",
       "      <th>alone</th>\n",
       "    </tr>\n",
       "  </thead>\n",
       "  <tbody>\n",
       "    <tr>\n",
       "      <th>0</th>\n",
       "      <td>0</td>\n",
       "      <td>male</td>\n",
       "      <td>1</td>\n",
       "      <td>0</td>\n",
       "      <td>7.25</td>\n",
       "      <td>Third</td>\n",
       "      <td>Southampton</td>\n",
       "      <td>0</td>\n",
       "    </tr>\n",
       "    <tr>\n",
       "      <th>1</th>\n",
       "      <td>1</td>\n",
       "      <td>female</td>\n",
       "      <td>1</td>\n",
       "      <td>0</td>\n",
       "      <td>71.28</td>\n",
       "      <td>First</td>\n",
       "      <td>Cherbourg</td>\n",
       "      <td>0</td>\n",
       "    </tr>\n",
       "    <tr>\n",
       "      <th>2</th>\n",
       "      <td>1</td>\n",
       "      <td>female</td>\n",
       "      <td>0</td>\n",
       "      <td>0</td>\n",
       "      <td>7.92</td>\n",
       "      <td>Third</td>\n",
       "      <td>Southampton</td>\n",
       "      <td>1</td>\n",
       "    </tr>\n",
       "    <tr>\n",
       "      <th>3</th>\n",
       "      <td>1</td>\n",
       "      <td>female</td>\n",
       "      <td>1</td>\n",
       "      <td>0</td>\n",
       "      <td>53.10</td>\n",
       "      <td>First</td>\n",
       "      <td>Southampton</td>\n",
       "      <td>0</td>\n",
       "    </tr>\n",
       "    <tr>\n",
       "      <th>4</th>\n",
       "      <td>0</td>\n",
       "      <td>male</td>\n",
       "      <td>0</td>\n",
       "      <td>0</td>\n",
       "      <td>8.05</td>\n",
       "      <td>Third</td>\n",
       "      <td>Southampton</td>\n",
       "      <td>1</td>\n",
       "    </tr>\n",
       "  </tbody>\n",
       "</table>\n",
       "</div>"
      ],
      "text/plain": [
       "   survived     sex  siblings_or_spouse  parent_or_children   fare  class  \\\n",
       "0         0    male                   1                   0   7.25  Third   \n",
       "1         1  female                   1                   0  71.28  First   \n",
       "2         1  female                   0                   0   7.92  Third   \n",
       "3         1  female                   1                   0  53.10  First   \n",
       "4         0    male                   0                   0   8.05  Third   \n",
       "\n",
       "   embark_town  alone  \n",
       "0  Southampton      0  \n",
       "1    Cherbourg      0  \n",
       "2  Southampton      1  \n",
       "3  Southampton      0  \n",
       "4  Southampton      1  "
      ]
     },
     "execution_count": 807,
     "metadata": {},
     "output_type": "execute_result"
    }
   ],
   "source": [
    "# rounding the fare column values to two (2) decimal places\n",
    "\n",
    "titanic_copy[\"fare\"] = titanic_copy[\"fare\"].round(2)\n",
    "titanic_copy.head()"
   ]
  },
  {
   "cell_type": "code",
   "execution_count": 808,
   "metadata": {},
   "outputs": [
    {
     "data": {
      "text/plain": [
       "survived                int64\n",
       "sex                    object\n",
       "siblings_or_spouse      int64\n",
       "parent_or_children      int64\n",
       "fare                  float64\n",
       "class                  object\n",
       "embark_town            object\n",
       "alone                   int64\n",
       "dtype: object"
      ]
     },
     "execution_count": 808,
     "metadata": {},
     "output_type": "execute_result"
    }
   ],
   "source": [
    "# verifying column value types - \n",
    "\n",
    "titanic_copy.dtypes"
   ]
  },
  {
   "cell_type": "code",
   "execution_count": 809,
   "metadata": {},
   "outputs": [
    {
     "data": {
      "text/plain": [
       "Index(['sex', 'class', 'embark_town'], dtype='object')"
      ]
     },
     "execution_count": 809,
     "metadata": {},
     "output_type": "execute_result"
    }
   ],
   "source": [
    "# creating dummy variables of categorical values\n",
    "\n",
    "titanic_copy.select_dtypes(include = \"object\").columns"
   ]
  },
  {
   "cell_type": "code",
   "execution_count": 810,
   "metadata": {},
   "outputs": [
    {
     "data": {
      "text/html": [
       "<div>\n",
       "<style scoped>\n",
       "    .dataframe tbody tr th:only-of-type {\n",
       "        vertical-align: middle;\n",
       "    }\n",
       "\n",
       "    .dataframe tbody tr th {\n",
       "        vertical-align: top;\n",
       "    }\n",
       "\n",
       "    .dataframe thead th {\n",
       "        text-align: right;\n",
       "    }\n",
       "</style>\n",
       "<table border=\"1\" class=\"dataframe\">\n",
       "  <thead>\n",
       "    <tr style=\"text-align: right;\">\n",
       "      <th></th>\n",
       "      <th>survived</th>\n",
       "      <th>siblings_or_spouse</th>\n",
       "      <th>parent_or_children</th>\n",
       "      <th>fare</th>\n",
       "      <th>alone</th>\n",
       "      <th>sex_female</th>\n",
       "      <th>sex_male</th>\n",
       "      <th>class_First</th>\n",
       "      <th>class_Second</th>\n",
       "      <th>class_Third</th>\n",
       "      <th>embark_town_Cherbourg</th>\n",
       "      <th>embark_town_Queenstown</th>\n",
       "      <th>embark_town_Southampton</th>\n",
       "    </tr>\n",
       "  </thead>\n",
       "  <tbody>\n",
       "    <tr>\n",
       "      <th>0</th>\n",
       "      <td>0</td>\n",
       "      <td>1</td>\n",
       "      <td>0</td>\n",
       "      <td>7.25</td>\n",
       "      <td>0</td>\n",
       "      <td>0</td>\n",
       "      <td>1</td>\n",
       "      <td>0</td>\n",
       "      <td>0</td>\n",
       "      <td>1</td>\n",
       "      <td>0</td>\n",
       "      <td>0</td>\n",
       "      <td>1</td>\n",
       "    </tr>\n",
       "    <tr>\n",
       "      <th>1</th>\n",
       "      <td>1</td>\n",
       "      <td>1</td>\n",
       "      <td>0</td>\n",
       "      <td>71.28</td>\n",
       "      <td>0</td>\n",
       "      <td>1</td>\n",
       "      <td>0</td>\n",
       "      <td>1</td>\n",
       "      <td>0</td>\n",
       "      <td>0</td>\n",
       "      <td>1</td>\n",
       "      <td>0</td>\n",
       "      <td>0</td>\n",
       "    </tr>\n",
       "    <tr>\n",
       "      <th>2</th>\n",
       "      <td>1</td>\n",
       "      <td>0</td>\n",
       "      <td>0</td>\n",
       "      <td>7.92</td>\n",
       "      <td>1</td>\n",
       "      <td>1</td>\n",
       "      <td>0</td>\n",
       "      <td>0</td>\n",
       "      <td>0</td>\n",
       "      <td>1</td>\n",
       "      <td>0</td>\n",
       "      <td>0</td>\n",
       "      <td>1</td>\n",
       "    </tr>\n",
       "    <tr>\n",
       "      <th>3</th>\n",
       "      <td>1</td>\n",
       "      <td>1</td>\n",
       "      <td>0</td>\n",
       "      <td>53.10</td>\n",
       "      <td>0</td>\n",
       "      <td>1</td>\n",
       "      <td>0</td>\n",
       "      <td>1</td>\n",
       "      <td>0</td>\n",
       "      <td>0</td>\n",
       "      <td>0</td>\n",
       "      <td>0</td>\n",
       "      <td>1</td>\n",
       "    </tr>\n",
       "    <tr>\n",
       "      <th>4</th>\n",
       "      <td>0</td>\n",
       "      <td>0</td>\n",
       "      <td>0</td>\n",
       "      <td>8.05</td>\n",
       "      <td>1</td>\n",
       "      <td>0</td>\n",
       "      <td>1</td>\n",
       "      <td>0</td>\n",
       "      <td>0</td>\n",
       "      <td>1</td>\n",
       "      <td>0</td>\n",
       "      <td>0</td>\n",
       "      <td>1</td>\n",
       "    </tr>\n",
       "  </tbody>\n",
       "</table>\n",
       "</div>"
      ],
      "text/plain": [
       "   survived  siblings_or_spouse  parent_or_children   fare  alone  sex_female  \\\n",
       "0         0                   1                   0   7.25      0           0   \n",
       "1         1                   1                   0  71.28      0           1   \n",
       "2         1                   0                   0   7.92      1           1   \n",
       "3         1                   1                   0  53.10      0           1   \n",
       "4         0                   0                   0   8.05      1           0   \n",
       "\n",
       "   sex_male  class_First  class_Second  class_Third  embark_town_Cherbourg  \\\n",
       "0         1            0             0            1                      0   \n",
       "1         0            1             0            0                      1   \n",
       "2         0            0             0            1                      0   \n",
       "3         0            1             0            0                      0   \n",
       "4         1            0             0            1                      0   \n",
       "\n",
       "   embark_town_Queenstown  embark_town_Southampton  \n",
       "0                       0                        1  \n",
       "1                       0                        0  \n",
       "2                       0                        1  \n",
       "3                       0                        1  \n",
       "4                       0                        1  "
      ]
     },
     "execution_count": 810,
     "metadata": {},
     "output_type": "execute_result"
    }
   ],
   "source": [
    "titanic_copy = pd.get_dummies(titanic_copy, columns = ['sex', 'class', 'embark_town'])\n",
    "titanic_copy.head()"
   ]
  },
  {
   "cell_type": "markdown",
   "metadata": {},
   "source": [
    "-----\n",
    "#### Splitting the dataset:"
   ]
  },
  {
   "cell_type": "code",
   "execution_count": 811,
   "metadata": {},
   "outputs": [],
   "source": [
    "def split_data(df):\n",
    "    '''\n",
    "    Takes in a dataframe and return train, validate, test subset dataframes\n",
    "    '''\n",
    "    train, test = train_test_split(df, test_size = 0.2, random_state=123, stratify = df.sex_male)\n",
    "    train, validate = train_test_split(train, test_size= 0.25, random_state=123, stratify = train.sex_male)\n",
    "    return train, validate, test"
   ]
  },
  {
   "cell_type": "code",
   "execution_count": 812,
   "metadata": {},
   "outputs": [
    {
     "name": "stdout",
     "output_type": "stream",
     "text": [
      "Train dataset shape: (534, 13)\n",
      "Validate dataset shape: (178, 13)\n",
      "Test dataset shape: (179, 13)\n"
     ]
    }
   ],
   "source": [
    "train, validate, test = split_data(titanic_copy)\n",
    "\n",
    "print(f\"Train dataset shape: {train.shape}\")\n",
    "print(f\"Validate dataset shape: {validate.shape}\")\n",
    "print(f\"Test dataset shape: {test.shape}\")"
   ]
  },
  {
   "cell_type": "markdown",
   "metadata": {},
   "source": [
    "-----\n",
    "1. What is your baseline prediction? \n",
    "2. What is your baseline accuracy? remember: your baseline prediction for a classification problem is predicting the most prevelant class in the training dataset (the mode). \n",
    "3. When you make those predictions, what is your accuracy? This is your baseline accuracy."
   ]
  },
  {
   "cell_type": "markdown",
   "metadata": {},
   "source": [
    "### 1. what is the baseline prediction? \n",
    "\n",
    "**<u>notes:</u>**\n",
    "\n",
    "- We are predicting passenger \"survival\"\n",
    "\n",
    "**Survival:**\n",
    "\n",
    "0 = Did NOT survive\n",
    "\n",
    "1 = Did survive\n",
    "\n",
    "True Positive: predict survived --> (actual) survived\n",
    "True Negative: predict did NOT survive --> (actual) did NOT survive\n",
    "False Positive: predict survived --> (actual) did NOT survive\n",
    "False Negative: predict did NOT survive --> (actual) survived "
   ]
  },
  {
   "cell_type": "code",
   "execution_count": 813,
   "metadata": {},
   "outputs": [
    {
     "data": {
      "text/plain": [
       "0    327\n",
       "1    207\n",
       "Name: survived, dtype: int64"
      ]
     },
     "execution_count": 813,
     "metadata": {},
     "output_type": "execute_result"
    }
   ],
   "source": [
    "train.survived.value_counts()"
   ]
  },
  {
   "cell_type": "code",
   "execution_count": 814,
   "metadata": {},
   "outputs": [
    {
     "data": {
      "text/html": [
       "<div>\n",
       "<style scoped>\n",
       "    .dataframe tbody tr th:only-of-type {\n",
       "        vertical-align: middle;\n",
       "    }\n",
       "\n",
       "    .dataframe tbody tr th {\n",
       "        vertical-align: top;\n",
       "    }\n",
       "\n",
       "    .dataframe thead th {\n",
       "        text-align: right;\n",
       "    }\n",
       "</style>\n",
       "<table border=\"1\" class=\"dataframe\">\n",
       "  <thead>\n",
       "    <tr style=\"text-align: right;\">\n",
       "      <th></th>\n",
       "      <th>survived</th>\n",
       "      <th>siblings_or_spouse</th>\n",
       "      <th>parent_or_children</th>\n",
       "      <th>fare</th>\n",
       "      <th>alone</th>\n",
       "      <th>sex_female</th>\n",
       "      <th>sex_male</th>\n",
       "      <th>class_First</th>\n",
       "      <th>class_Second</th>\n",
       "      <th>class_Third</th>\n",
       "      <th>embark_town_Cherbourg</th>\n",
       "      <th>embark_town_Queenstown</th>\n",
       "      <th>embark_town_Southampton</th>\n",
       "      <th>baseline_prediction</th>\n",
       "    </tr>\n",
       "  </thead>\n",
       "  <tbody>\n",
       "    <tr>\n",
       "      <th>142</th>\n",
       "      <td>1</td>\n",
       "      <td>1</td>\n",
       "      <td>0</td>\n",
       "      <td>15.85</td>\n",
       "      <td>0</td>\n",
       "      <td>1</td>\n",
       "      <td>0</td>\n",
       "      <td>0</td>\n",
       "      <td>0</td>\n",
       "      <td>1</td>\n",
       "      <td>0</td>\n",
       "      <td>0</td>\n",
       "      <td>1</td>\n",
       "      <td>0</td>\n",
       "    </tr>\n",
       "    <tr>\n",
       "      <th>827</th>\n",
       "      <td>1</td>\n",
       "      <td>0</td>\n",
       "      <td>2</td>\n",
       "      <td>37.00</td>\n",
       "      <td>0</td>\n",
       "      <td>0</td>\n",
       "      <td>1</td>\n",
       "      <td>0</td>\n",
       "      <td>1</td>\n",
       "      <td>0</td>\n",
       "      <td>1</td>\n",
       "      <td>0</td>\n",
       "      <td>0</td>\n",
       "      <td>0</td>\n",
       "    </tr>\n",
       "    <tr>\n",
       "      <th>865</th>\n",
       "      <td>1</td>\n",
       "      <td>0</td>\n",
       "      <td>0</td>\n",
       "      <td>13.00</td>\n",
       "      <td>1</td>\n",
       "      <td>1</td>\n",
       "      <td>0</td>\n",
       "      <td>0</td>\n",
       "      <td>1</td>\n",
       "      <td>0</td>\n",
       "      <td>0</td>\n",
       "      <td>0</td>\n",
       "      <td>1</td>\n",
       "      <td>0</td>\n",
       "    </tr>\n",
       "    <tr>\n",
       "      <th>531</th>\n",
       "      <td>0</td>\n",
       "      <td>0</td>\n",
       "      <td>0</td>\n",
       "      <td>7.23</td>\n",
       "      <td>1</td>\n",
       "      <td>0</td>\n",
       "      <td>1</td>\n",
       "      <td>0</td>\n",
       "      <td>0</td>\n",
       "      <td>1</td>\n",
       "      <td>1</td>\n",
       "      <td>0</td>\n",
       "      <td>0</td>\n",
       "      <td>0</td>\n",
       "    </tr>\n",
       "    <tr>\n",
       "      <th>292</th>\n",
       "      <td>0</td>\n",
       "      <td>0</td>\n",
       "      <td>0</td>\n",
       "      <td>12.88</td>\n",
       "      <td>1</td>\n",
       "      <td>0</td>\n",
       "      <td>1</td>\n",
       "      <td>0</td>\n",
       "      <td>1</td>\n",
       "      <td>0</td>\n",
       "      <td>1</td>\n",
       "      <td>0</td>\n",
       "      <td>0</td>\n",
       "      <td>0</td>\n",
       "    </tr>\n",
       "  </tbody>\n",
       "</table>\n",
       "</div>"
      ],
      "text/plain": [
       "     survived  siblings_or_spouse  parent_or_children   fare  alone  \\\n",
       "142         1                   1                   0  15.85      0   \n",
       "827         1                   0                   2  37.00      0   \n",
       "865         1                   0                   0  13.00      1   \n",
       "531         0                   0                   0   7.23      1   \n",
       "292         0                   0                   0  12.88      1   \n",
       "\n",
       "     sex_female  sex_male  class_First  class_Second  class_Third  \\\n",
       "142           1         0            0             0            1   \n",
       "827           0         1            0             1            0   \n",
       "865           1         0            0             1            0   \n",
       "531           0         1            0             0            1   \n",
       "292           0         1            0             1            0   \n",
       "\n",
       "     embark_town_Cherbourg  embark_town_Queenstown  embark_town_Southampton  \\\n",
       "142                      0                       0                        1   \n",
       "827                      1                       0                        0   \n",
       "865                      0                       0                        1   \n",
       "531                      1                       0                        0   \n",
       "292                      1                       0                        0   \n",
       "\n",
       "     baseline_prediction  \n",
       "142                    0  \n",
       "827                    0  \n",
       "865                    0  \n",
       "531                    0  \n",
       "292                    0  "
      ]
     },
     "execution_count": 814,
     "metadata": {},
     "output_type": "execute_result"
    }
   ],
   "source": [
    "# baseline prediction = highest frequency outcome \"did NOT survive\" or 0\n",
    "\n",
    "train[\"baseline_prediction\"] = 0\n",
    "train.head()"
   ]
  },
  {
   "cell_type": "code",
   "execution_count": 815,
   "metadata": {},
   "outputs": [
    {
     "name": "stdout",
     "output_type": "stream",
     "text": [
      "Baseline Accuracy: % 61.0\n"
     ]
    }
   ],
   "source": [
    "# baseline accuracy = ~61% accuracy\n",
    "\n",
    "baseline_acc = (train[\"baseline_prediction\"] == train[\"survived\"]).mean().round(3)\n",
    "print(f\"Baseline Accuracy: % {(baseline_acc * 100).round()}\")"
   ]
  },
  {
   "cell_type": "code",
   "execution_count": 816,
   "metadata": {},
   "outputs": [
    {
     "data": {
      "text/plain": [
       "survived               int64\n",
       "baseline_prediction    int64\n",
       "dtype: object"
      ]
     },
     "execution_count": 816,
     "metadata": {},
     "output_type": "execute_result"
    }
   ],
   "source": [
    "train[[\"survived\", \"baseline_prediction\"]].dtypes"
   ]
  },
  {
   "cell_type": "markdown",
   "metadata": {},
   "source": [
    "----\n",
    "### Exercise #2:\n",
    "\n",
    "Fit the decision tree classifier to your training sample and transform (i.e. make predictions on the training sample)\n",
    "\n"
   ]
  },
  {
   "cell_type": "code",
   "execution_count": 817,
   "metadata": {},
   "outputs": [
    {
     "data": {
      "text/plain": [
       "survived                   1.000000\n",
       "siblings_or_spouse        -0.061114\n",
       "parent_or_children         0.028207\n",
       "fare                       0.223605\n",
       "alone                     -0.174404\n",
       "sex_female                 0.475802\n",
       "sex_male                  -0.475802\n",
       "class_First                0.275963\n",
       "class_Second               0.102282\n",
       "class_Third               -0.322787\n",
       "embark_town_Cherbourg      0.119265\n",
       "embark_town_Queenstown     0.027172\n",
       "embark_town_Southampton   -0.131472\n",
       "baseline_prediction             NaN\n",
       "Name: survived, dtype: float64"
      ]
     },
     "execution_count": 817,
     "metadata": {},
     "output_type": "execute_result"
    }
   ],
   "source": [
    "# quick correlation test\n",
    "\n",
    "train.corr(method = \"pearson\").iloc[0] # since i know survived is the fist column, i can use the iloc[0], meaning return correlation to the \"survived\" column"
   ]
  },
  {
   "cell_type": "markdown",
   "metadata": {},
   "source": [
    "**Predictions:**\n",
    "\n",
    "Given the **<u>correlation coefficient</u>** of ea. column/feature to \"survival\" outcome, i conclude that a passenger's sex, class, and fare amount have a greater impact in predicting a passenger's survival.\n",
    "\n",
    "\n",
    "-----"
   ]
  },
  {
   "cell_type": "code",
   "execution_count": 818,
   "metadata": {},
   "outputs": [
    {
     "data": {
      "text/plain": [
       "Index(['survived', 'siblings_or_spouse', 'parent_or_children', 'fare', 'alone',\n",
       "       'sex_female', 'sex_male', 'class_First', 'class_Second', 'class_Third',\n",
       "       'embark_town_Cherbourg', 'embark_town_Queenstown',\n",
       "       'embark_town_Southampton', 'baseline_prediction'],\n",
       "      dtype='object')"
      ]
     },
     "execution_count": 818,
     "metadata": {},
     "output_type": "execute_result"
    }
   ],
   "source": [
    "train.columns"
   ]
  },
  {
   "cell_type": "code",
   "execution_count": 819,
   "metadata": {},
   "outputs": [],
   "source": [
    "# selecting the columns that are most correlated to survival outcome\n",
    "X = train[[ \n",
    "    'fare', \\\n",
    "    'sex_female', \\\n",
    "    'sex_male', \\\n",
    "    'class_First', \\\n",
    "    'class_Second', \\\n",
    "    'class_Third']]\n",
    "\n",
    "y = train[\"survived\"]\n",
    "\n",
    "X_train_and_validate, X_test, y_train_and_validate, y_test = train_test_split(X, y, random_state=123, test_size=.3)\n",
    "X_train, X_validate, y_train, y_validate = train_test_split(X_train_and_validate, y_train_and_validate, random_state=123, test_size=.2)"
   ]
  },
  {
   "cell_type": "code",
   "execution_count": 820,
   "metadata": {},
   "outputs": [
    {
     "data": {
      "text/html": [
       "<div>\n",
       "<style scoped>\n",
       "    .dataframe tbody tr th:only-of-type {\n",
       "        vertical-align: middle;\n",
       "    }\n",
       "\n",
       "    .dataframe tbody tr th {\n",
       "        vertical-align: top;\n",
       "    }\n",
       "\n",
       "    .dataframe thead th {\n",
       "        text-align: right;\n",
       "    }\n",
       "</style>\n",
       "<table border=\"1\" class=\"dataframe\">\n",
       "  <thead>\n",
       "    <tr style=\"text-align: right;\">\n",
       "      <th></th>\n",
       "      <th>fare</th>\n",
       "      <th>sex_female</th>\n",
       "      <th>sex_male</th>\n",
       "      <th>class_First</th>\n",
       "      <th>class_Second</th>\n",
       "      <th>class_Third</th>\n",
       "    </tr>\n",
       "  </thead>\n",
       "  <tbody>\n",
       "    <tr>\n",
       "      <th>459</th>\n",
       "      <td>7.75</td>\n",
       "      <td>0</td>\n",
       "      <td>1</td>\n",
       "      <td>0</td>\n",
       "      <td>0</td>\n",
       "      <td>1</td>\n",
       "    </tr>\n",
       "    <tr>\n",
       "      <th>571</th>\n",
       "      <td>51.48</td>\n",
       "      <td>1</td>\n",
       "      <td>0</td>\n",
       "      <td>1</td>\n",
       "      <td>0</td>\n",
       "      <td>0</td>\n",
       "    </tr>\n",
       "    <tr>\n",
       "      <th>381</th>\n",
       "      <td>15.74</td>\n",
       "      <td>1</td>\n",
       "      <td>0</td>\n",
       "      <td>0</td>\n",
       "      <td>0</td>\n",
       "      <td>1</td>\n",
       "    </tr>\n",
       "    <tr>\n",
       "      <th>240</th>\n",
       "      <td>14.45</td>\n",
       "      <td>1</td>\n",
       "      <td>0</td>\n",
       "      <td>0</td>\n",
       "      <td>0</td>\n",
       "      <td>1</td>\n",
       "    </tr>\n",
       "    <tr>\n",
       "      <th>312</th>\n",
       "      <td>26.00</td>\n",
       "      <td>1</td>\n",
       "      <td>0</td>\n",
       "      <td>0</td>\n",
       "      <td>1</td>\n",
       "      <td>0</td>\n",
       "    </tr>\n",
       "  </tbody>\n",
       "</table>\n",
       "</div>"
      ],
      "text/plain": [
       "      fare  sex_female  sex_male  class_First  class_Second  class_Third\n",
       "459   7.75           0         1            0             0            1\n",
       "571  51.48           1         0            1             0            0\n",
       "381  15.74           1         0            0             0            1\n",
       "240  14.45           1         0            0             0            1\n",
       "312  26.00           1         0            0             1            0"
      ]
     },
     "execution_count": 820,
     "metadata": {},
     "output_type": "execute_result"
    }
   ],
   "source": [
    "X_train.head()"
   ]
  },
  {
   "cell_type": "code",
   "execution_count": 821,
   "metadata": {},
   "outputs": [
    {
     "data": {
      "text/plain": [
       "pandas.core.series.Series"
      ]
     },
     "execution_count": 821,
     "metadata": {},
     "output_type": "execute_result"
    }
   ],
   "source": [
    "type(y_train)"
   ]
  },
  {
   "cell_type": "code",
   "execution_count": 822,
   "metadata": {},
   "outputs": [
    {
     "data": {
      "text/plain": [
       "459    0\n",
       "571    1\n",
       "381    1\n",
       "240    0\n",
       "312    0\n",
       "Name: survived, dtype: int64"
      ]
     },
     "execution_count": 822,
     "metadata": {},
     "output_type": "execute_result"
    }
   ],
   "source": [
    "y_train.head()"
   ]
  },
  {
   "cell_type": "code",
   "execution_count": 823,
   "metadata": {},
   "outputs": [
    {
     "data": {
      "text/plain": [
       "0    184\n",
       "1    114\n",
       "Name: survived, dtype: int64"
      ]
     },
     "execution_count": 823,
     "metadata": {},
     "output_type": "execute_result"
    }
   ],
   "source": [
    "y_train.value_counts()"
   ]
  },
  {
   "cell_type": "markdown",
   "metadata": {},
   "source": [
    "----\n",
    "* **Exercise #3: Evaluate your in-sample results using the model score, confusion matrix, and classification report**\n",
    "\n",
    "* **Exercise #4: Compute Accuracy, true positive rate, false positive rate, true negative rate, false negative rate, precision, recall, f1-score, and support**\n",
    "\n",
    "* **Exercise #5: Run through steps 2-4 using a different max_depth value**\n",
    "\n",
    "----"
   ]
  },
  {
   "cell_type": "code",
   "execution_count": 824,
   "metadata": {},
   "outputs": [],
   "source": [
    "tree1 = DecisionTreeClassifier(max_depth = 3, random_state = 3)"
   ]
  },
  {
   "cell_type": "code",
   "execution_count": 825,
   "metadata": {},
   "outputs": [],
   "source": [
    "tree1 = tree1.fit(X_train, y_train)"
   ]
  },
  {
   "cell_type": "code",
   "execution_count": 826,
   "metadata": {},
   "outputs": [],
   "source": [
    "y_predictions = tree1.predict(X_train)"
   ]
  },
  {
   "cell_type": "code",
   "execution_count": 827,
   "metadata": {},
   "outputs": [
    {
     "data": {
      "image/png": "[encoded data removed]",
      "text/plain": [
       "<Figure size 864x504 with 1 Axes>"
      ]
     },
     "metadata": {
      "needs_background": "light"
     },
     "output_type": "display_data"
    }
   ],
   "source": [
    "# plotting the small tree\n",
    "%matplotlib inline\n",
    "\n",
    "plt.figure(figsize=(12, 7))\n",
    "plot_tree(tree1, feature_names = X_train.columns.astype(\"str\"), class_names = y_train.unique().astype(\"str\"))\n",
    "plt.show()"
   ]
  },
  {
   "cell_type": "code",
   "execution_count": 828,
   "metadata": {},
   "outputs": [
    {
     "name": "stdout",
     "output_type": "stream",
     "text": [
      "Accuracy of Decision Tree Classifer on training dataset: % 0.78\n"
     ]
    }
   ],
   "source": [
    "# evaluating the initial train dataset/tree1 performance\n",
    "\n",
    "print('Accuracy of Decision Tree Classifer on training dataset: % {:.2f}'.format(tree1.score(X_train, y_train)))"
   ]
  },
  {
   "cell_type": "code",
   "execution_count": 829,
   "metadata": {},
   "outputs": [
    {
     "data": {
      "text/plain": [
       "<sklearn.metrics._plot.confusion_matrix.ConfusionMatrixDisplay at 0x7fba13fb1af0>"
      ]
     },
     "execution_count": 829,
     "metadata": {},
     "output_type": "execute_result"
    },
    {
     "data": {
      "image/png": "[encoded data removed]",
      "text/plain": [
       "<Figure size 432x288 with 2 Axes>"
      ]
     },
     "metadata": {
      "needs_background": "light"
     },
     "output_type": "display_data"
    }
   ],
   "source": [
    "# plotting confusion matrices for small and big tree models:\n",
    "%matplotlib inline\n",
    "\n",
    "plot_confusion_matrix(tree1, X_train, y_train, display_labels=['Did NOT Survive', 'Survived'])"
   ]
  },
  {
   "cell_type": "code",
   "execution_count": 830,
   "metadata": {},
   "outputs": [
    {
     "name": "stdout",
     "output_type": "stream",
     "text": [
      "              precision    recall  f1-score   support\n",
      "\n",
      "           0       0.75      0.95      0.84       184\n",
      "           1       0.86      0.50      0.63       114\n",
      "\n",
      "    accuracy                           0.78       298\n",
      "   macro avg       0.81      0.73      0.74       298\n",
      "weighted avg       0.80      0.78      0.76       298\n",
      "\n"
     ]
    }
   ],
   "source": [
    "# returning the classification report:\n",
    "\n",
    "print(classification_report(y_train, y_predictions))"
   ]
  },
  {
   "cell_type": "code",
   "execution_count": 831,
   "metadata": {},
   "outputs": [
    {
     "name": "stdout",
     "output_type": "stream",
     "text": [
      "Tree of 1 depth\n"
     ]
    },
    {
     "data": {
      "text/html": [
       "<div>\n",
       "<style scoped>\n",
       "    .dataframe tbody tr th:only-of-type {\n",
       "        vertical-align: middle;\n",
       "    }\n",
       "\n",
       "    .dataframe tbody tr th {\n",
       "        vertical-align: top;\n",
       "    }\n",
       "\n",
       "    .dataframe thead th {\n",
       "        text-align: right;\n",
       "    }\n",
       "</style>\n",
       "<table border=\"1\" class=\"dataframe\">\n",
       "  <thead>\n",
       "    <tr style=\"text-align: right;\">\n",
       "      <th></th>\n",
       "      <th>0</th>\n",
       "      <th>1</th>\n",
       "      <th>accuracy</th>\n",
       "      <th>macro avg</th>\n",
       "      <th>weighted avg</th>\n",
       "    </tr>\n",
       "  </thead>\n",
       "  <tbody>\n",
       "    <tr>\n",
       "      <th>precision</th>\n",
       "      <td>0.754310</td>\n",
       "      <td>0.863636</td>\n",
       "      <td>0.778523</td>\n",
       "      <td>0.808973</td>\n",
       "      <td>0.796133</td>\n",
       "    </tr>\n",
       "    <tr>\n",
       "      <th>recall</th>\n",
       "      <td>0.951087</td>\n",
       "      <td>0.500000</td>\n",
       "      <td>0.778523</td>\n",
       "      <td>0.725543</td>\n",
       "      <td>0.778523</td>\n",
       "    </tr>\n",
       "    <tr>\n",
       "      <th>f1-score</th>\n",
       "      <td>0.841346</td>\n",
       "      <td>0.633333</td>\n",
       "      <td>0.778523</td>\n",
       "      <td>0.737340</td>\n",
       "      <td>0.761771</td>\n",
       "    </tr>\n",
       "    <tr>\n",
       "      <th>support</th>\n",
       "      <td>184.000000</td>\n",
       "      <td>114.000000</td>\n",
       "      <td>0.778523</td>\n",
       "      <td>298.000000</td>\n",
       "      <td>298.000000</td>\n",
       "    </tr>\n",
       "  </tbody>\n",
       "</table>\n",
       "</div>"
      ],
      "text/plain": [
       "                    0           1  accuracy   macro avg  weighted avg\n",
       "precision    0.754310    0.863636  0.778523    0.808973      0.796133\n",
       "recall       0.951087    0.500000  0.778523    0.725543      0.778523\n",
       "f1-score     0.841346    0.633333  0.778523    0.737340      0.761771\n",
       "support    184.000000  114.000000  0.778523  298.000000    298.000000"
      ]
     },
     "execution_count": 831,
     "metadata": {},
     "output_type": "execute_result"
    }
   ],
   "source": [
    "# Produce the classification report on the actual y values and this model's predicted y values\n",
    "\n",
    "report = classification_report(y_train, y_predictions, output_dict=True)\n",
    "print(\"Tree of 1 depth\")\n",
    "pd.DataFrame(report)"
   ]
  },
  {
   "cell_type": "markdown",
   "metadata": {},
   "source": [
    "----\n",
    "**Finding \"optimal\" max_depth for decision tree & evaluating the model's performance on the train dataset first**"
   ]
  },
  {
   "cell_type": "code",
   "execution_count": 832,
   "metadata": {},
   "outputs": [
    {
     "name": "stdout",
     "output_type": "stream",
     "text": [
      "Tree with max depth of: 1\n",
      "                    0           1  accuracy   macro avg  weighted avg\n",
      "precision    0.778351    0.682692  0.744966    0.730521      0.741756\n",
      "recall       0.820652    0.622807  0.744966    0.721730      0.744966\n",
      "f1-score     0.798942    0.651376  0.744966    0.725159      0.742491\n",
      "support    184.000000  114.000000  0.744966  298.000000    298.000000\n",
      "\n",
      "Tree with max depth of: 2\n",
      "                    0           1  accuracy   macro avg  weighted avg\n",
      "precision    0.724696    0.901961  0.755034    0.813329      0.792509\n",
      "recall       0.972826    0.403509  0.755034    0.688167      0.755034\n",
      "f1-score     0.830626    0.557576  0.755034    0.694101      0.726171\n",
      "support    184.000000  114.000000  0.755034  298.000000    298.000000\n",
      "\n",
      "Tree with max depth of: 3\n",
      "                    0           1  accuracy   macro avg  weighted avg\n",
      "precision    0.754310    0.863636  0.778523    0.808973      0.796133\n",
      "recall       0.951087    0.500000  0.778523    0.725543      0.778523\n",
      "f1-score     0.841346    0.633333  0.778523    0.737340      0.761771\n",
      "support    184.000000  114.000000  0.778523  298.000000    298.000000\n",
      "\n",
      "Tree with max depth of: 4\n",
      "                    0           1  accuracy   macro avg  weighted avg\n",
      "precision    0.786047    0.819277  0.795302    0.802662      0.798759\n",
      "recall       0.918478    0.596491  0.795302    0.757485      0.795302\n",
      "f1-score     0.847118    0.690355  0.795302    0.768737      0.787148\n",
      "support    184.000000  114.000000  0.795302  298.000000    298.000000\n",
      "\n",
      "Tree with max depth of: 5\n",
      "                    0           1  accuracy   macro avg  weighted avg\n",
      "precision    0.826531    0.784314  0.812081    0.805422      0.810381\n",
      "recall       0.880435    0.701754  0.812081    0.791095      0.812081\n",
      "f1-score     0.852632    0.740741  0.812081    0.796686      0.809828\n",
      "support    184.000000  114.000000  0.812081  298.000000    298.000000\n",
      "\n",
      "Tree with max depth of: 6\n",
      "                    0           1  accuracy   macro avg  weighted avg\n",
      "precision    0.811060    0.901235   0.83557    0.856147      0.845556\n",
      "recall       0.956522    0.640351   0.83557    0.798436      0.835570\n",
      "f1-score     0.877805    0.748718   0.83557    0.813262      0.828423\n",
      "support    184.000000  114.000000   0.83557  298.000000    298.000000\n",
      "\n",
      "Tree with max depth of: 7\n",
      "                    0           1  accuracy   macro avg  weighted avg\n",
      "precision    0.867725    0.816514  0.848993    0.842119      0.848134\n",
      "recall       0.891304    0.780702  0.848993    0.836003      0.848993\n",
      "f1-score     0.879357    0.798206  0.848993    0.838781      0.848312\n",
      "support    184.000000  114.000000  0.848993  298.000000    298.000000\n",
      "\n",
      "Tree with max depth of: 8\n",
      "                    0           1  accuracy   macro avg  weighted avg\n",
      "precision    0.831776    0.928571   0.85906    0.880174      0.868805\n",
      "recall       0.967391    0.684211   0.85906    0.825801      0.859060\n",
      "f1-score     0.894472    0.787879   0.85906    0.841176      0.853695\n",
      "support    184.000000  114.000000   0.85906  298.000000    298.000000\n",
      "\n",
      "Tree with max depth of: 9\n",
      "                    0           1  accuracy   macro avg  weighted avg\n",
      "precision    0.841121    0.952381  0.872483    0.896751      0.883684\n",
      "recall       0.978261    0.701754  0.872483    0.840008      0.872483\n",
      "f1-score     0.904523    0.808081  0.872483    0.856302      0.867629\n",
      "support    184.000000  114.000000  0.872483  298.000000    298.000000\n",
      "\n",
      "Tree with max depth of: 10\n",
      "                    0           1  accuracy   macro avg  weighted avg\n",
      "precision    0.886598    0.884615  0.885906    0.885607      0.885840\n",
      "recall       0.934783    0.807018  0.885906    0.870900      0.885906\n",
      "f1-score     0.910053    0.844037  0.885906    0.877045      0.884798\n",
      "support    184.000000  114.000000  0.885906  298.000000    298.000000\n",
      "\n",
      "Tree with max depth of: 11\n",
      "                    0           1  accuracy   macro avg  weighted avg\n",
      "precision    0.876238    0.927083  0.892617    0.901660      0.895689\n",
      "recall       0.961957    0.780702  0.892617    0.871329      0.892617\n",
      "f1-score     0.917098    0.847619  0.892617    0.882359      0.890519\n",
      "support    184.000000  114.000000  0.892617  298.000000    298.000000\n",
      "\n",
      "Tree with max depth of: 12\n",
      "                    0           1  accuracy   macro avg  weighted avg\n",
      "precision    0.869565    0.956044  0.895973    0.912805      0.902648\n",
      "recall       0.978261    0.763158  0.895973    0.870709      0.895973\n",
      "f1-score     0.920716    0.848780  0.895973    0.884748      0.893197\n",
      "support    184.000000  114.000000  0.895973  298.000000    298.000000\n",
      "\n",
      "Tree with max depth of: 13\n",
      "                    0           1  accuracy   macro avg  weighted avg\n",
      "precision    0.881188    0.937500  0.899329    0.909344      0.902730\n",
      "recall       0.967391    0.789474  0.899329    0.878432      0.899329\n",
      "f1-score     0.922280    0.857143  0.899329    0.889711      0.897362\n",
      "support    184.000000  114.000000  0.899329  298.000000    298.000000\n",
      "\n",
      "Tree with max depth of: 14\n",
      "                    0           1  accuracy   macro avg  weighted avg\n",
      "precision    0.878049    0.956989  0.902685    0.917519      0.908247\n",
      "recall       0.978261    0.780702  0.902685    0.879481      0.902685\n",
      "f1-score     0.925450    0.859903  0.902685    0.892677      0.900375\n",
      "support    184.000000  114.000000  0.902685  298.000000    298.000000\n",
      "\n"
     ]
    }
   ],
   "source": [
    "# using for loops to create classification reports for all depth 1-15\n",
    "\n",
    "for i in range(1, 15):\n",
    "    # Making the model\n",
    "    tree = DecisionTreeClassifier(max_depth=i, random_state=123)\n",
    "\n",
    "    # Fitting the model (on train and only train)\n",
    "    tree = tree.fit(X_train, y_train)\n",
    "\n",
    "    # Using the model\n",
    "    # We'll evaluate the model's performance on train, first:\n",
    "    y_predictions = tree.predict(X_train)\n",
    "\n",
    "    # Produce the classification report on the actual y values and this model's predicted y values\n",
    "    report = classification_report(y_train, y_predictions, output_dict=True)\n",
    "    print(f\"Tree with max depth of: {i}\")\n",
    "    print(pd.DataFrame(report))\n",
    "\n",
    "    print() # printing a indented line for ea. iteration"
   ]
  },
  {
   "cell_type": "markdown",
   "metadata": {},
   "source": [
    "### Conclusion:\n",
    "    where a model depth of 15 produces a \"relative\" max accuracy of ~91% \n",
    "\n",
    "----"
   ]
  },
  {
   "cell_type": "markdown",
   "metadata": {},
   "source": [
    "### Comparing in-sample data (train) to out-sample date (validate)"
   ]
  },
  {
   "cell_type": "code",
   "execution_count": 833,
   "metadata": {},
   "outputs": [
    {
     "data": {
      "text/html": [
       "<div>\n",
       "<style scoped>\n",
       "    .dataframe tbody tr th:only-of-type {\n",
       "        vertical-align: middle;\n",
       "    }\n",
       "\n",
       "    .dataframe tbody tr th {\n",
       "        vertical-align: top;\n",
       "    }\n",
       "\n",
       "    .dataframe thead th {\n",
       "        text-align: right;\n",
       "    }\n",
       "</style>\n",
       "<table border=\"1\" class=\"dataframe\">\n",
       "  <thead>\n",
       "    <tr style=\"text-align: right;\">\n",
       "      <th></th>\n",
       "      <th>max_depth</th>\n",
       "      <th>train_accuracy</th>\n",
       "      <th>validate_accuracy</th>\n",
       "      <th>percent_change_diff</th>\n",
       "    </tr>\n",
       "  </thead>\n",
       "  <tbody>\n",
       "    <tr>\n",
       "      <th>0</th>\n",
       "      <td>1</td>\n",
       "      <td>0.74</td>\n",
       "      <td>0.73</td>\n",
       "      <td>1.56</td>\n",
       "    </tr>\n",
       "    <tr>\n",
       "      <th>1</th>\n",
       "      <td>2</td>\n",
       "      <td>0.76</td>\n",
       "      <td>0.72</td>\n",
       "      <td>4.64</td>\n",
       "    </tr>\n",
       "    <tr>\n",
       "      <th>2</th>\n",
       "      <td>3</td>\n",
       "      <td>0.78</td>\n",
       "      <td>0.77</td>\n",
       "      <td>0.67</td>\n",
       "    </tr>\n",
       "    <tr>\n",
       "      <th>3</th>\n",
       "      <td>4</td>\n",
       "      <td>0.80</td>\n",
       "      <td>0.75</td>\n",
       "      <td>6.12</td>\n",
       "    </tr>\n",
       "    <tr>\n",
       "      <th>4</th>\n",
       "      <td>5</td>\n",
       "      <td>0.81</td>\n",
       "      <td>0.76</td>\n",
       "      <td>6.41</td>\n",
       "    </tr>\n",
       "    <tr>\n",
       "      <th>5</th>\n",
       "      <td>6</td>\n",
       "      <td>0.84</td>\n",
       "      <td>0.73</td>\n",
       "      <td>12.24</td>\n",
       "    </tr>\n",
       "    <tr>\n",
       "      <th>6</th>\n",
       "      <td>7</td>\n",
       "      <td>0.85</td>\n",
       "      <td>0.68</td>\n",
       "      <td>19.91</td>\n",
       "    </tr>\n",
       "    <tr>\n",
       "      <th>7</th>\n",
       "      <td>8</td>\n",
       "      <td>0.86</td>\n",
       "      <td>0.72</td>\n",
       "      <td>16.19</td>\n",
       "    </tr>\n",
       "    <tr>\n",
       "      <th>8</th>\n",
       "      <td>9</td>\n",
       "      <td>0.87</td>\n",
       "      <td>0.71</td>\n",
       "      <td>19.01</td>\n",
       "    </tr>\n",
       "    <tr>\n",
       "      <th>9</th>\n",
       "      <td>10</td>\n",
       "      <td>0.89</td>\n",
       "      <td>0.68</td>\n",
       "      <td>23.24</td>\n",
       "    </tr>\n",
       "    <tr>\n",
       "      <th>10</th>\n",
       "      <td>11</td>\n",
       "      <td>0.89</td>\n",
       "      <td>0.68</td>\n",
       "      <td>23.82</td>\n",
       "    </tr>\n",
       "    <tr>\n",
       "      <th>11</th>\n",
       "      <td>12</td>\n",
       "      <td>0.90</td>\n",
       "      <td>0.69</td>\n",
       "      <td>22.62</td>\n",
       "    </tr>\n",
       "    <tr>\n",
       "      <th>12</th>\n",
       "      <td>13</td>\n",
       "      <td>0.90</td>\n",
       "      <td>0.68</td>\n",
       "      <td>24.39</td>\n",
       "    </tr>\n",
       "    <tr>\n",
       "      <th>13</th>\n",
       "      <td>14</td>\n",
       "      <td>0.90</td>\n",
       "      <td>0.69</td>\n",
       "      <td>23.19</td>\n",
       "    </tr>\n",
       "    <tr>\n",
       "      <th>14</th>\n",
       "      <td>15</td>\n",
       "      <td>0.91</td>\n",
       "      <td>0.68</td>\n",
       "      <td>24.95</td>\n",
       "    </tr>\n",
       "    <tr>\n",
       "      <th>15</th>\n",
       "      <td>16</td>\n",
       "      <td>0.91</td>\n",
       "      <td>0.69</td>\n",
       "      <td>23.48</td>\n",
       "    </tr>\n",
       "    <tr>\n",
       "      <th>16</th>\n",
       "      <td>17</td>\n",
       "      <td>0.91</td>\n",
       "      <td>0.69</td>\n",
       "      <td>23.48</td>\n",
       "    </tr>\n",
       "    <tr>\n",
       "      <th>17</th>\n",
       "      <td>18</td>\n",
       "      <td>0.91</td>\n",
       "      <td>0.69</td>\n",
       "      <td>23.48</td>\n",
       "    </tr>\n",
       "    <tr>\n",
       "      <th>18</th>\n",
       "      <td>19</td>\n",
       "      <td>0.91</td>\n",
       "      <td>0.69</td>\n",
       "      <td>23.48</td>\n",
       "    </tr>\n",
       "  </tbody>\n",
       "</table>\n",
       "</div>"
      ],
      "text/plain": [
       "    max_depth  train_accuracy  validate_accuracy  percent_change_diff\n",
       "0           1            0.74               0.73                 1.56\n",
       "1           2            0.76               0.72                 4.64\n",
       "2           3            0.78               0.77                 0.67\n",
       "3           4            0.80               0.75                 6.12\n",
       "4           5            0.81               0.76                 6.41\n",
       "5           6            0.84               0.73                12.24\n",
       "6           7            0.85               0.68                19.91\n",
       "7           8            0.86               0.72                16.19\n",
       "8           9            0.87               0.71                19.01\n",
       "9          10            0.89               0.68                23.24\n",
       "10         11            0.89               0.68                23.82\n",
       "11         12            0.90               0.69                22.62\n",
       "12         13            0.90               0.68                24.39\n",
       "13         14            0.90               0.69                23.19\n",
       "14         15            0.91               0.68                24.95\n",
       "15         16            0.91               0.69                23.48\n",
       "16         17            0.91               0.69                23.48\n",
       "17         18            0.91               0.69                23.48\n",
       "18         19            0.91               0.69                23.48"
      ]
     },
     "execution_count": 833,
     "metadata": {},
     "output_type": "execute_result"
    }
   ],
   "source": [
    "metrics = []\n",
    "\n",
    "for i in range(1, 20):\n",
    "    # Make the model\n",
    "    tree = DecisionTreeClassifier(max_depth=i, random_state=123)\n",
    "\n",
    "    # Fit the model (on train and only train)\n",
    "    tree = tree.fit(X_train, y_train)\n",
    "\n",
    "    # Use the model\n",
    "    # We'll evaluate the model's performance on train, first\n",
    "    in_sample_accuracy = tree.score(X_train, y_train)\n",
    "    \n",
    "    out_of_sample_accuracy = tree.score(X_validate, y_validate)\n",
    "\n",
    "    output = {\n",
    "        \"max_depth\": i,\n",
    "        \"train_accuracy\": in_sample_accuracy,\n",
    "        \"validate_accuracy\": out_of_sample_accuracy\n",
    "    }\n",
    "    \n",
    "    metrics.append(output)\n",
    "    \n",
    "df = pd.DataFrame(metrics)\n",
    "df[\"percent_change_diff\"] = ((df.train_accuracy - df.validate_accuracy) / df.train_accuracy) * 100\n",
    "df.round(2)"
   ]
  },
  {
   "cell_type": "code",
   "execution_count": 834,
   "metadata": {},
   "outputs": [
    {
     "data": {
      "text/plain": [
       "0.6666666666666671"
      ]
     },
     "execution_count": 834,
     "metadata": {},
     "output_type": "execute_result"
    }
   ],
   "source": [
    "# lowest percentage change difference between in-sample (train) and out-sample (validate)\n",
    "\n",
    "df[\"percent_change_diff\"].min()"
   ]
  },
  {
   "cell_type": "markdown",
   "metadata": {},
   "source": [
    "### Conclusion:\n",
    "\n",
    "It appears that when compared to the in-sample (validate) our model is has a optimal max_depth of three (3)"
   ]
  },
  {
   "cell_type": "markdown",
   "metadata": {},
   "source": [
    "-----\n",
    "### Random Forests Module Exercises\n",
    "    start: thursday, July 7th 2022\n",
    "\n",
    "1. Fit the Random Forest classifier to your training sample and transform (i.e. make predictions on the training sample) setting the random_state accordingly and setting min_samples_leaf = 1 and max_depth = 10.\n",
    "\n",
    "2. Evaluate your results using the model score, confusion matrix, and classification report.\n",
    "\n",
    "3. Print and clearly label the following: Accuracy, true positive rate, false positive rate, true negative rate, false negative rate, precision, recall, f1-score, and support.\n",
    "\n",
    "4. Run through steps increasing your min_samples_leaf and decreasing your max_depth.\n",
    "\n",
    "5. What are the differences in the evaluation metrics? Which performs better on your in-sample data? Why?\n",
    "\n",
    "6. After making a few models, which one has the best performance (or closest metrics) on both train and validate?\n",
    "\n",
    "----\n"
   ]
  },
  {
   "cell_type": "code",
   "execution_count": 835,
   "metadata": {},
   "outputs": [],
   "source": [
    "# ignoring the warnings\n",
    "import warnings\n",
    "warnings.filterwarnings(\"ignore\")\n",
    "\n",
    "# getting necessary imports\n",
    "from sklearn.ensemble import RandomForestClassifier\n",
    "\n",
    "\n",
    "%matplotlib inline\n",
    "plt.rcParams.update({'figure.figsize': (12.0, 8.0)})\n",
    "plt.rcParams.update({'font.size': 14})"
   ]
  },
  {
   "cell_type": "code",
   "execution_count": 836,
   "metadata": {},
   "outputs": [
    {
     "name": "stdout",
     "output_type": "stream",
     "text": [
      "Train dataset shape: (534, 13)\n",
      "Validate dataset shape: (178, 13)\n",
      "Test dataset shape: (179, 13)\n"
     ]
    }
   ],
   "source": [
    "# Exercise #1:\n",
    "# fit the Random Forest classifier to your training sample and transform (i.e. make predictions on the training sample) \n",
    "# setting the random_state accordingly and setting min_samples_leaf = 1 and max_depth = 10\n",
    "\n",
    "# 1st data split:\n",
    "\n",
    "def split_data(df):\n",
    "    '''\n",
    "    Takes in a dataframe and return train, validate, test subset dataframes\n",
    "    '''\n",
    "    train, test = train_test_split(df, test_size = 0.2, random_state=123, stratify = df.sex_male)\n",
    "    train, validate = train_test_split(train, test_size= 0.25, random_state=123, stratify = train.sex_male)\n",
    "    return train, validate, test\n",
    "\n",
    "train, validate, test = split_data(titanic_copy)\n",
    "\n",
    "print(f\"Train dataset shape: {train.shape}\")\n",
    "print(f\"Validate dataset shape: {validate.shape}\")\n",
    "print(f\"Test dataset shape: {test.shape}\")"
   ]
  },
  {
   "cell_type": "code",
   "execution_count": 837,
   "metadata": {},
   "outputs": [],
   "source": [
    "# 2nd data split:\n",
    "\n",
    "X = train[[ \n",
    "    'fare', \\\n",
    "    'sex_female', \\\n",
    "    'sex_male', \\\n",
    "    'class_First', \\\n",
    "    'class_Second', \\\n",
    "    'class_Third']]\n",
    "\n",
    "y = train[\"survived\"]\n",
    "\n",
    "X_train_and_validate, X_test, y_train_and_validate, y_test = train_test_split(X, y, random_state=123, test_size=.3)\n",
    "X_train, X_validate, y_train, y_validate = train_test_split(X_train_and_validate, y_train_and_validate, random_state=123, test_size=.2)"
   ]
  },
  {
   "cell_type": "code",
   "execution_count": 838,
   "metadata": {},
   "outputs": [],
   "source": [
    "# training the \"random forest\" model using the train (independent / dependent variable) dataset\n",
    "# min sample lead = 1\n",
    "# max decision depth = 10\n",
    "# random state = 123\n",
    "\n",
    "# future note: the \"min_samples_leaf\" parameter defaults to 1\n",
    "\n",
    "rf = RandomForestClassifier(min_samples_leaf = 1, max_depth = 10, random_state = 123)"
   ]
  },
  {
   "cell_type": "code",
   "execution_count": 839,
   "metadata": {},
   "outputs": [
    {
     "data": {
      "text/plain": [
       "sklearn.ensemble._forest.RandomForestClassifier"
      ]
     },
     "execution_count": 839,
     "metadata": {},
     "output_type": "execute_result"
    }
   ],
   "source": [
    "type(rf)\n",
    "    "
   ]
  },
  {
   "cell_type": "code",
   "execution_count": 840,
   "metadata": {},
   "outputs": [
    {
     "data": {
      "text/plain": [
       "RandomForestClassifier(max_depth=10, random_state=123)"
      ]
     },
     "execution_count": 840,
     "metadata": {},
     "output_type": "execute_result"
    }
   ],
   "source": [
    "rf"
   ]
  },
  {
   "cell_type": "code",
   "execution_count": 841,
   "metadata": {},
   "outputs": [
    {
     "data": {
      "text/plain": [
       "RandomForestClassifier(max_depth=10, random_state=123)"
      ]
     },
     "execution_count": 841,
     "metadata": {},
     "output_type": "execute_result"
    }
   ],
   "source": [
    "# fitting the initial model with X_train and y_train data:\n",
    "\n",
    "rf.fit(X_train, y_train)"
   ]
  },
  {
   "cell_type": "code",
   "execution_count": 842,
   "metadata": {},
   "outputs": [
    {
     "data": {
      "text/plain": [
       "array([0.59979932, 0.12701432, 0.11863909, 0.04989429, 0.01919559,\n",
       "       0.08545739])"
      ]
     },
     "execution_count": 842,
     "metadata": {},
     "output_type": "execute_result"
    }
   ],
   "source": [
    "rf.feature_importances_"
   ]
  },
  {
   "cell_type": "code",
   "execution_count": 843,
   "metadata": {},
   "outputs": [
    {
     "data": {
      "text/plain": [
       "<AxesSubplot:>"
      ]
     },
     "execution_count": 843,
     "metadata": {},
     "output_type": "execute_result"
    },
    {
     "data": {
      "image/png": "[encoded data removed]",
      "text/plain": [
       "<Figure size 864x576 with 1 Axes>"
      ]
     },
     "metadata": {},
     "output_type": "display_data"
    }
   ],
   "source": [
    "sorted_idx = rf.feature_importances_.argsort()\n",
    "sns.set_theme(style = \"dark\")\n",
    "sns.barplot(rf.feature_importances_[sorted_idx], X_train.columns[sorted_idx], orient = \"h\", color = \"b\")"
   ]
  },
  {
   "cell_type": "markdown",
   "metadata": {},
   "source": [
    "----"
   ]
  },
  {
   "cell_type": "code",
   "execution_count": 844,
   "metadata": {},
   "outputs": [
    {
     "data": {
      "text/plain": [
       "array([0, 1, 1, 0, 0, 1, 1, 0, 1, 1, 1, 0, 0, 1, 0, 0, 0, 0, 0, 1, 0, 0,\n",
       "       0, 0, 0, 1, 0, 1, 0, 1, 1, 1, 0, 1, 1, 0, 0, 0, 1, 0, 0, 1, 0, 0,\n",
       "       1, 0, 0, 0, 0, 0, 1, 1, 1, 0, 0, 0, 0, 1, 1, 0, 0, 1, 1, 0, 1, 1,\n",
       "       1, 0, 0, 1, 0, 0, 0, 0, 0, 1, 1, 1, 1, 0, 1, 0, 0, 1, 0, 0, 0, 0,\n",
       "       1, 0, 0, 0, 0, 1, 1, 1, 0, 1, 0, 1, 0, 0, 0, 1, 0, 1, 0, 1, 1, 0,\n",
       "       0, 0, 0, 0, 0, 1, 0, 0, 0, 0, 0, 0, 0, 1, 0, 0, 0, 1, 1, 1, 1, 0,\n",
       "       0, 0, 0, 0, 0, 0, 0, 1, 0, 0, 0, 0, 0, 0, 1, 1, 1, 1, 0, 1, 0, 0,\n",
       "       0, 1, 1, 1, 0, 0, 0, 0, 0, 0, 0, 0, 0, 1, 0, 0, 0, 0, 1, 0, 1, 0,\n",
       "       0, 0, 0, 0, 0, 1, 0, 0, 0, 1, 1, 1, 0, 0, 0, 0, 0, 1, 0, 1, 0, 0,\n",
       "       0, 0, 1, 0, 1, 1, 0, 0, 0, 0, 0, 0, 0, 1, 1, 1, 0, 0, 0, 0, 0, 1,\n",
       "       0, 0, 0, 0, 0, 0, 0, 0, 0, 0, 0, 0, 1, 1, 1, 1, 0, 1, 0, 1, 0, 0,\n",
       "       0, 1, 1, 1, 0, 0, 0, 1, 1, 1, 1, 0, 1, 0, 0, 1, 0, 1, 0, 1, 0, 0,\n",
       "       0, 0, 1, 0, 0, 0, 0, 0, 0, 1, 0, 0, 1, 0, 0, 0, 0, 1, 1, 1, 1, 1,\n",
       "       1, 0, 0, 0, 1, 0, 0, 1, 1, 1, 1, 0])"
      ]
     },
     "execution_count": 844,
     "metadata": {},
     "output_type": "execute_result"
    }
   ],
   "source": [
    "# Exercise #2: Evaluate your results using the model score, confusion matrix, and classification report\n",
    "\n",
    "y_pred = rf.predict(X_train)\n",
    "y_pred"
   ]
  },
  {
   "cell_type": "code",
   "execution_count": 845,
   "metadata": {},
   "outputs": [
    {
     "data": {
      "text/plain": [
       "array([[0.82122165, 0.17877835],\n",
       "       [0.        , 1.        ],\n",
       "       [0.08311364, 0.91688636],\n",
       "       [0.75369361, 0.24630639],\n",
       "       [0.55345238, 0.44654762],\n",
       "       [0.39827103, 0.60172897],\n",
       "       [0.0225    , 0.9775    ],\n",
       "       [0.99887742, 0.00112258],\n",
       "       [0.25117158, 0.74882842],\n",
       "       [0.39657143, 0.60342857],\n",
       "       [0.03      , 0.97      ],\n",
       "       [1.        , 0.        ],\n",
       "       [0.79461444, 0.20538556],\n",
       "       [0.21083462, 0.78916538],\n",
       "       [1.        , 0.        ],\n",
       "       [1.        , 0.        ],\n",
       "       [0.66245763, 0.33754237],\n",
       "       [1.        , 0.        ],\n",
       "       [0.94809524, 0.05190476],\n",
       "       [0.36034127, 0.63965873],\n",
       "       [0.99887742, 0.00112258],\n",
       "       [0.53986364, 0.46013636],\n",
       "       [0.82122165, 0.17877835],\n",
       "       [0.73407143, 0.26592857],\n",
       "       [0.82122165, 0.17877835],\n",
       "       [0.09467668, 0.90532332],\n",
       "       [0.94809524, 0.05190476],\n",
       "       [0.04      , 0.96      ],\n",
       "       [0.91374452, 0.08625548],\n",
       "       [0.02      , 0.98      ],\n",
       "       [0.39480692, 0.60519308],\n",
       "       [0.        , 1.        ],\n",
       "       [0.75      , 0.25      ],\n",
       "       [0.02      , 0.98      ],\n",
       "       [0.35659209, 0.64340791],\n",
       "       [0.97791667, 0.02208333],\n",
       "       [1.        , 0.        ],\n",
       "       [0.99439222, 0.00560778],\n",
       "       [0.49869573, 0.50130427],\n",
       "       [1.        , 0.        ],\n",
       "       [0.768     , 0.232     ],\n",
       "       [0.49184441, 0.50815559],\n",
       "       [0.97791667, 0.02208333],\n",
       "       [0.94323343, 0.05676657],\n",
       "       [0.33616667, 0.66383333],\n",
       "       [0.74528488, 0.25471512],\n",
       "       [0.88833333, 0.11166667],\n",
       "       [0.99887742, 0.00112258],\n",
       "       [1.        , 0.        ],\n",
       "       [0.51909334, 0.48090666],\n",
       "       [0.36034127, 0.63965873],\n",
       "       [0.05061364, 0.94938636],\n",
       "       [0.35409805, 0.64590195],\n",
       "       [0.95205869, 0.04794131],\n",
       "       [0.64816622, 0.35183378],\n",
       "       [0.85266667, 0.14733333],\n",
       "       [0.99887742, 0.00112258],\n",
       "       [0.        , 1.        ],\n",
       "       [0.        , 1.        ],\n",
       "       [0.86705211, 0.13294789],\n",
       "       [0.98      , 0.02      ],\n",
       "       [0.        , 1.        ],\n",
       "       [0.47021429, 0.52978571],\n",
       "       [0.98439222, 0.01560778],\n",
       "       [0.47021429, 0.52978571],\n",
       "       [0.168693  , 0.831307  ],\n",
       "       [0.        , 1.        ],\n",
       "       [0.97      , 0.03      ],\n",
       "       [0.93166667, 0.06833333],\n",
       "       [0.35659209, 0.64340791],\n",
       "       [1.        , 0.        ],\n",
       "       [1.        , 0.        ],\n",
       "       [0.50625   , 0.49375   ],\n",
       "       [0.66998694, 0.33001306],\n",
       "       [0.836     , 0.164     ],\n",
       "       [0.        , 1.        ],\n",
       "       [0.037     , 0.963     ],\n",
       "       [0.01      , 0.99      ],\n",
       "       [0.35659209, 0.64340791],\n",
       "       [0.97      , 0.03      ],\n",
       "       [0.037     , 0.963     ],\n",
       "       [0.928     , 0.072     ],\n",
       "       [0.99887742, 0.00112258],\n",
       "       [0.02      , 0.98      ],\n",
       "       [0.51150649, 0.48849351],\n",
       "       [0.55345238, 0.44654762],\n",
       "       [0.99887742, 0.00112258],\n",
       "       [0.99887742, 0.00112258],\n",
       "       [0.34495455, 0.65504545],\n",
       "       [0.99407143, 0.00592857],\n",
       "       [0.75369361, 0.24630639],\n",
       "       [0.99887742, 0.00112258],\n",
       "       [0.91762121, 0.08237879],\n",
       "       [0.43830287, 0.56169713],\n",
       "       [0.09467668, 0.90532332],\n",
       "       [0.14720942, 0.85279058],\n",
       "       [1.        , 0.        ],\n",
       "       [0.20550491, 0.79449509],\n",
       "       [0.94242774, 0.05757226],\n",
       "       [0.39428488, 0.60571512],\n",
       "       [0.75369361, 0.24630639],\n",
       "       [0.50542994, 0.49457006],\n",
       "       [0.99439222, 0.00560778],\n",
       "       [0.        , 1.        ],\n",
       "       [1.        , 0.        ],\n",
       "       [0.        , 1.        ],\n",
       "       [0.88833333, 0.11166667],\n",
       "       [0.24059334, 0.75940666],\n",
       "       [0.35659209, 0.64340791],\n",
       "       [0.80533898, 0.19466102],\n",
       "       [0.65817088, 0.34182912],\n",
       "       [0.65817088, 0.34182912],\n",
       "       [0.99887742, 0.00112258],\n",
       "       [0.88014744, 0.11985256],\n",
       "       [0.97791667, 0.02208333],\n",
       "       [0.45582079, 0.54417921],\n",
       "       [0.53531299, 0.46468701],\n",
       "       [0.988     , 0.012     ],\n",
       "       [0.54680692, 0.45319308],\n",
       "       [1.        , 0.        ],\n",
       "       [0.94242774, 0.05757226],\n",
       "       [0.61      , 0.39      ],\n",
       "       [1.        , 0.        ],\n",
       "       [0.168693  , 0.831307  ],\n",
       "       [1.        , 0.        ],\n",
       "       [0.99887742, 0.00112258],\n",
       "       [0.99661444, 0.00338556],\n",
       "       [0.32      , 0.68      ],\n",
       "       [0.06175   , 0.93825   ],\n",
       "       [0.35659209, 0.64340791],\n",
       "       [0.42      , 0.58      ],\n",
       "       [0.91374452, 0.08625548],\n",
       "       [0.61578993, 0.38421007],\n",
       "       [0.97      , 0.03      ],\n",
       "       [0.91374452, 0.08625548],\n",
       "       [0.82122165, 0.17877835],\n",
       "       [0.99661444, 0.00338556],\n",
       "       [0.69981205, 0.30018795],\n",
       "       [0.97      , 0.03      ],\n",
       "       [0.44633333, 0.55366667],\n",
       "       [0.91374452, 0.08625548],\n",
       "       [0.99407143, 0.00592857],\n",
       "       [0.91374452, 0.08625548],\n",
       "       [0.94323343, 0.05676657],\n",
       "       [0.91374452, 0.08625548],\n",
       "       [1.        , 0.        ],\n",
       "       [0.168693  , 0.831307  ],\n",
       "       [0.168693  , 0.831307  ],\n",
       "       [0.40375758, 0.59624242],\n",
       "       [0.0225    , 0.9775    ],\n",
       "       [0.6375184 , 0.3624816 ],\n",
       "       [0.49869573, 0.50130427],\n",
       "       [0.91374452, 0.08625548],\n",
       "       [0.75369361, 0.24630639],\n",
       "       [0.51150649, 0.48849351],\n",
       "       [0.36151107, 0.63848893],\n",
       "       [0.05219697, 0.94780303],\n",
       "       [0.46789141, 0.53210859],\n",
       "       [0.86156676, 0.13843324],\n",
       "       [0.66998694, 0.33001306],\n",
       "       [0.97247372, 0.02752628],\n",
       "       [0.90666667, 0.09333333],\n",
       "       [0.99407143, 0.00592857],\n",
       "       [0.51150649, 0.48849351],\n",
       "       [0.93166667, 0.06833333],\n",
       "       [0.98407143, 0.01592857],\n",
       "       [0.55345238, 0.44654762],\n",
       "       [0.0225    , 0.9775    ],\n",
       "       [1.        , 0.        ],\n",
       "       [0.91762121, 0.08237879],\n",
       "       [0.97338281, 0.02661719],\n",
       "       [0.50542994, 0.49457006],\n",
       "       [0.04      , 0.96      ],\n",
       "       [0.66998694, 0.33001306],\n",
       "       [0.49184441, 0.50815559],\n",
       "       [0.90666667, 0.09333333],\n",
       "       [0.50542994, 0.49457006],\n",
       "       [0.50542994, 0.49457006],\n",
       "       [0.99407143, 0.00592857],\n",
       "       [0.91374452, 0.08625548],\n",
       "       [1.        , 0.        ],\n",
       "       [0.16483333, 0.83516667],\n",
       "       [0.51150649, 0.48849351],\n",
       "       [0.998     , 0.002     ],\n",
       "       [0.55345238, 0.44654762],\n",
       "       [0.037     , 0.963     ],\n",
       "       [0.02      , 0.98      ],\n",
       "       [0.44633333, 0.55366667],\n",
       "       [0.94809524, 0.05190476],\n",
       "       [1.        , 0.        ],\n",
       "       [0.99439222, 0.00560778],\n",
       "       [0.87111328, 0.12888672],\n",
       "       [0.7214223 , 0.2785777 ],\n",
       "       [0.39827103, 0.60172897],\n",
       "       [0.50542994, 0.49457006],\n",
       "       [0.        , 1.        ],\n",
       "       [1.        , 0.        ],\n",
       "       [1.        , 0.        ],\n",
       "       [0.86156676, 0.13843324],\n",
       "       [0.99      , 0.01      ],\n",
       "       [0.03      , 0.97      ],\n",
       "       [1.        , 0.        ],\n",
       "       [0.13316667, 0.86683333],\n",
       "       [0.39278111, 0.60721889],\n",
       "       [0.51150649, 0.48849351],\n",
       "       [0.99661444, 0.00338556],\n",
       "       [0.69981205, 0.30018795],\n",
       "       [0.99439222, 0.00560778],\n",
       "       [1.        , 0.        ],\n",
       "       [0.55921557, 0.44078443],\n",
       "       [0.86705211, 0.13294789],\n",
       "       [0.        , 1.        ],\n",
       "       [0.08386364, 0.91613636],\n",
       "       [0.        , 1.        ],\n",
       "       [0.99887742, 0.00112258],\n",
       "       [0.65817088, 0.34182912],\n",
       "       [0.97738889, 0.02261111],\n",
       "       [0.82122165, 0.17877835],\n",
       "       [0.69981205, 0.30018795],\n",
       "       [0.37666667, 0.62333333],\n",
       "       [0.50542994, 0.49457006],\n",
       "       [1.        , 0.        ],\n",
       "       [0.91374452, 0.08625548],\n",
       "       [0.99887742, 0.00112258],\n",
       "       [0.998     , 0.002     ],\n",
       "       [0.92979365, 0.07020635],\n",
       "       [1.        , 0.        ],\n",
       "       [1.        , 0.        ],\n",
       "       [0.77439222, 0.22560778],\n",
       "       [0.91374452, 0.08625548],\n",
       "       [1.        , 0.        ],\n",
       "       [0.82122165, 0.17877835],\n",
       "       [0.168693  , 0.831307  ],\n",
       "       [0.04061364, 0.95938636],\n",
       "       [0.        , 1.        ],\n",
       "       [0.06807251, 0.93192749],\n",
       "       [0.69981205, 0.30018795],\n",
       "       [0.20550491, 0.79449509],\n",
       "       [0.81148317, 0.18851683],\n",
       "       [0.16307143, 0.83692857],\n",
       "       [0.99887742, 0.00112258],\n",
       "       [1.        , 0.        ],\n",
       "       [0.97      , 0.03      ],\n",
       "       [0.21083462, 0.78916538],\n",
       "       [0.        , 1.        ],\n",
       "       [0.23176001, 0.76823999],\n",
       "       [0.99887742, 0.00112258],\n",
       "       [0.69981205, 0.30018795],\n",
       "       [0.99661444, 0.00338556],\n",
       "       [0.        , 1.        ],\n",
       "       [0.168693  , 0.831307  ],\n",
       "       [0.        , 1.        ],\n",
       "       [0.43830287, 0.56169713],\n",
       "       [0.54680692, 0.45319308],\n",
       "       [0.22308333, 0.77691667],\n",
       "       [1.        , 0.        ],\n",
       "       [0.64033289, 0.35966711],\n",
       "       [0.03      , 0.97      ],\n",
       "       [0.76466667, 0.23533333],\n",
       "       [0.46789141, 0.53210859],\n",
       "       [0.836     , 0.164     ],\n",
       "       [0.23189141, 0.76810859],\n",
       "       [0.68566388, 0.31433612],\n",
       "       [0.98661444, 0.01338556],\n",
       "       [0.50625   , 0.49375   ],\n",
       "       [0.98661444, 0.01338556],\n",
       "       [0.        , 1.        ],\n",
       "       [0.91762121, 0.08237879],\n",
       "       [0.988     , 0.012     ],\n",
       "       [0.91374452, 0.08625548],\n",
       "       [0.69981205, 0.30018795],\n",
       "       [0.98      , 0.02      ],\n",
       "       [1.        , 0.        ],\n",
       "       [0.16307143, 0.83692857],\n",
       "       [0.95205869, 0.04794131],\n",
       "       [1.        , 0.        ],\n",
       "       [0.        , 1.        ],\n",
       "       [0.99887742, 0.00112258],\n",
       "       [0.51150649, 0.48849351],\n",
       "       [0.99661444, 0.00338556],\n",
       "       [0.82122165, 0.17877835],\n",
       "       [0.015     , 0.985     ],\n",
       "       [0.05061364, 0.94938636],\n",
       "       [0.02      , 0.98      ],\n",
       "       [0.08386364, 0.91613636],\n",
       "       [0.34674419, 0.65325581],\n",
       "       [0.36172569, 0.63827431],\n",
       "       [1.        , 0.        ],\n",
       "       [0.99887742, 0.00112258],\n",
       "       [1.        , 0.        ],\n",
       "       [0.        , 1.        ],\n",
       "       [0.89507937, 0.10492063],\n",
       "       [0.6547381 , 0.3452619 ],\n",
       "       [0.06428716, 0.93571284],\n",
       "       [0.27431478, 0.72568522],\n",
       "       [0.35659209, 0.64340791],\n",
       "       [0.36034127, 0.63965873],\n",
       "       [0.99661444, 0.00338556]])"
      ]
     },
     "execution_count": 845,
     "metadata": {},
     "output_type": "execute_result"
    }
   ],
   "source": [
    "# estimating the probability of ea. outcome (did NOT survive / survived)\n",
    "\n",
    "y_prediction_probability = rf.predict_proba(X_train)\n",
    "y_prediction_probability"
   ]
  },
  {
   "cell_type": "code",
   "execution_count": 846,
   "metadata": {},
   "outputs": [
    {
     "name": "stdout",
     "output_type": "stream",
     "text": [
      "[[173  11]\n",
      " [ 17  97]]\n"
     ]
    }
   ],
   "source": [
    "# random forest tree confusion matrix\n",
    "\n",
    "print(confusion_matrix(y_train, y_pred))"
   ]
  },
  {
   "cell_type": "code",
   "execution_count": 847,
   "metadata": {},
   "outputs": [
    {
     "data": {
      "text/html": [
       "<div>\n",
       "<style scoped>\n",
       "    .dataframe tbody tr th:only-of-type {\n",
       "        vertical-align: middle;\n",
       "    }\n",
       "\n",
       "    .dataframe tbody tr th {\n",
       "        vertical-align: top;\n",
       "    }\n",
       "\n",
       "    .dataframe thead th {\n",
       "        text-align: right;\n",
       "    }\n",
       "</style>\n",
       "<table border=\"1\" class=\"dataframe\">\n",
       "  <thead>\n",
       "    <tr style=\"text-align: right;\">\n",
       "      <th>col_0</th>\n",
       "      <th>0</th>\n",
       "      <th>1</th>\n",
       "    </tr>\n",
       "    <tr>\n",
       "      <th>survived</th>\n",
       "      <th></th>\n",
       "      <th></th>\n",
       "    </tr>\n",
       "  </thead>\n",
       "  <tbody>\n",
       "    <tr>\n",
       "      <th>0</th>\n",
       "      <td>173</td>\n",
       "      <td>11</td>\n",
       "    </tr>\n",
       "    <tr>\n",
       "      <th>1</th>\n",
       "      <td>17</td>\n",
       "      <td>97</td>\n",
       "    </tr>\n",
       "  </tbody>\n",
       "</table>\n",
       "</div>"
      ],
      "text/plain": [
       "col_0       0   1\n",
       "survived         \n",
       "0         173  11\n",
       "1          17  97"
      ]
     },
     "execution_count": 847,
     "metadata": {},
     "output_type": "execute_result"
    }
   ],
   "source": [
    "# crosstab method\n",
    "\n",
    "pd.crosstab(y_train, y_pred)"
   ]
  },
  {
   "cell_type": "markdown",
   "metadata": {},
   "source": [
    "* True Positive: 97\n",
    "\n",
    "* True Negative: 173\n",
    "\n",
    "* False Negative: 17\n",
    "\n",
    "* False Positive: 11"
   ]
  },
  {
   "cell_type": "code",
   "execution_count": 848,
   "metadata": {},
   "outputs": [
    {
     "name": "stdout",
     "output_type": "stream",
     "text": [
      "Accuracy of random forest classifier on training set: 0.91\n"
     ]
    }
   ],
   "source": [
    "# evaluating the model:\n",
    "\n",
    "print('Accuracy of random forest classifier on training set: {:.2f}'\n",
    "     .format(rf.score(X_train, y_train)))"
   ]
  },
  {
   "cell_type": "code",
   "execution_count": 849,
   "metadata": {},
   "outputs": [
    {
     "name": "stdout",
     "output_type": "stream",
     "text": [
      "              precision    recall  f1-score   support\n",
      "\n",
      "           0       0.91      0.94      0.93       184\n",
      "           1       0.90      0.85      0.87       114\n",
      "\n",
      "    accuracy                           0.91       298\n",
      "   macro avg       0.90      0.90      0.90       298\n",
      "weighted avg       0.91      0.91      0.91       298\n",
      "\n"
     ]
    }
   ],
   "source": [
    "# creating a model classification report\n",
    "\n",
    "print(classification_report(y_train, y_pred))"
   ]
  },
  {
   "cell_type": "markdown",
   "metadata": {},
   "source": [
    "----\n",
    "\n",
    "### Validating the Model: "
   ]
  },
  {
   "cell_type": "code",
   "execution_count": 850,
   "metadata": {},
   "outputs": [
    {
     "name": "stdout",
     "output_type": "stream",
     "text": [
      "Accuracy of random forest classifier on test set: 0.68\n"
     ]
    }
   ],
   "source": [
    "print('Accuracy of random forest classifier on test set: {:.2f}'\n",
    "     .format(rf.score(X_validate, y_validate)))"
   ]
  },
  {
   "cell_type": "markdown",
   "metadata": {},
   "source": [
    "#### Exercise #4: Run through steps increasing your min_samples_leaf and decreasing your max_depth"
   ]
  },
  {
   "cell_type": "code",
   "execution_count": 851,
   "metadata": {},
   "outputs": [
    {
     "name": "stdout",
     "output_type": "stream",
     "text": [
      "Random Forest with max_depth of: 10\n",
      "Random Forest with minimum sample leaves of: 1\n",
      "                    0           1  accuracy   macro avg  weighted avg\n",
      "precision    0.910526    0.898148   0.90604    0.904337      0.905791\n",
      "recall       0.940217    0.850877   0.90604    0.895547      0.906040\n",
      "f1-score     0.925134    0.873874   0.90604    0.899504      0.905524\n",
      "support    184.000000  114.000000   0.90604  298.000000    298.000000\n",
      "\n",
      "Random Forest with max_depth of: 9\n",
      "Random Forest with minimum sample leaves of: 2\n",
      "                    0           1  accuracy   macro avg  weighted avg\n",
      "precision    0.843434    0.830000  0.838926    0.836717      0.838295\n",
      "recall       0.907609    0.728070  0.838926    0.817839      0.838926\n",
      "f1-score     0.874346    0.775701  0.838926    0.825023      0.836609\n",
      "support    184.000000  114.000000  0.838926  298.000000    298.000000\n",
      "\n",
      "Random Forest with max_depth of: 8\n",
      "Random Forest with minimum sample leaves of: 3\n",
      "                    0           1  accuracy   macro avg  weighted avg\n",
      "precision    0.845361    0.807692  0.832215    0.826527      0.830951\n",
      "recall       0.891304    0.736842  0.832215    0.814073      0.832215\n",
      "f1-score     0.867725    0.770642  0.832215    0.819184      0.830586\n",
      "support    184.000000  114.000000  0.832215  298.000000    298.000000\n",
      "\n",
      "Random Forest with max_depth of: 7\n",
      "Random Forest with minimum sample leaves of: 4\n",
      "                    0           1  accuracy   macro avg  weighted avg\n",
      "precision    0.853403    0.803738   0.83557    0.828571      0.834404\n",
      "recall       0.885870    0.754386   0.83557    0.820128      0.835570\n",
      "f1-score     0.869333    0.778281   0.83557    0.823807      0.834501\n",
      "support    184.000000  114.000000   0.83557  298.000000    298.000000\n",
      "\n",
      "Random Forest with max_depth of: 6\n",
      "Random Forest with minimum sample leaves of: 5\n",
      "                    0           1  accuracy   macro avg  weighted avg\n",
      "precision    0.854839    0.776786  0.825503    0.815812      0.824980\n",
      "recall       0.864130    0.763158  0.825503    0.813644      0.825503\n",
      "f1-score     0.859459    0.769912  0.825503    0.814685      0.825203\n",
      "support    184.000000  114.000000  0.825503  298.000000    298.000000\n",
      "\n",
      "Random Forest with max_depth of: 5\n",
      "Random Forest with minimum sample leaves of: 6\n",
      "                    0           1  accuracy   macro avg  weighted avg\n",
      "precision    0.835979    0.761468  0.808725    0.798723      0.807475\n",
      "recall       0.858696    0.728070  0.808725    0.793383      0.808725\n",
      "f1-score     0.847185    0.744395  0.808725    0.795790      0.807862\n",
      "support    184.000000  114.000000  0.808725  298.000000    298.000000\n",
      "\n",
      "Random Forest with max_depth of: 4\n",
      "Random Forest with minimum sample leaves of: 7\n",
      "                    0           1  accuracy   macro avg  weighted avg\n",
      "precision    0.795122    0.774194  0.788591    0.784658      0.787116\n",
      "recall       0.885870    0.631579  0.788591    0.758724      0.788591\n",
      "f1-score     0.838046    0.695652  0.788591    0.766849      0.783573\n",
      "support    184.000000  114.000000  0.788591  298.000000    298.000000\n",
      "\n",
      "Random Forest with max_depth of: 3\n",
      "Random Forest with minimum sample leaves of: 8\n",
      "                    0           1  accuracy   macro avg  weighted avg\n",
      "precision    0.756637    0.819444  0.771812    0.788041      0.780664\n",
      "recall       0.929348    0.517544  0.771812    0.723446      0.771812\n",
      "f1-score     0.834146    0.634409  0.771812    0.734277      0.757737\n",
      "support    184.000000  114.000000  0.771812  298.000000    298.000000\n",
      "\n",
      "Random Forest with max_depth of: 2\n",
      "Random Forest with minimum sample leaves of: 9\n",
      "                    0           1  accuracy   macro avg  weighted avg\n",
      "precision    0.758621    0.684211  0.734899    0.721416      0.730155\n",
      "recall       0.836957    0.570175  0.734899    0.703566      0.734899\n",
      "f1-score     0.795866    0.622010  0.734899    0.708938      0.729357\n",
      "support    184.000000  114.000000  0.734899  298.000000    298.000000\n",
      "\n",
      "Random Forest with max_depth of: 1\n",
      "Random Forest with minimum sample leaves of: 10\n",
      "                    0       1  accuracy   macro avg  weighted avg\n",
      "precision    0.743243    0.75  0.744966    0.746622      0.745828\n",
      "recall       0.896739    0.50  0.744966    0.698370      0.744966\n",
      "f1-score     0.812808    0.60  0.744966    0.706404      0.731398\n",
      "support    184.000000  114.00  0.744966  298.000000    298.000000\n",
      "\n"
     ]
    }
   ],
   "source": [
    "leaf_counter = 0\n",
    "\n",
    "for i in range(10, 0, -1):\n",
    "    # Make the model\n",
    "    rf = RandomForestClassifier(max_depth=i, min_samples_leaf = (leaf_counter + 1), random_state=123)\n",
    "    leaf_counter += 1\n",
    "\n",
    "    # Fit the model (on train and only train)\n",
    "    rf = rf.fit(X_train, y_train)\n",
    "\n",
    "    # Use the model\n",
    "    # We'll evaluate the model's performance on train, first\n",
    "    y_predictions = rf.predict(X_train)\n",
    "\n",
    "    # Produce the classification report on the actual y values and this model's predicted y values\n",
    "    report = classification_report(y_train, y_predictions, output_dict=True)\n",
    "    print(f\"Random Forest with max_depth of: {i}\")\n",
    "    print(f\"Random Forest with minimum sample leaves of: {leaf_counter}\")\n",
    "    print(pd.DataFrame(report))\n",
    "    \n",
    "    print()"
   ]
  },
  {
   "cell_type": "code",
   "execution_count": 852,
   "metadata": {},
   "outputs": [
    {
     "data": {
      "text/html": [
       "<div>\n",
       "<style scoped>\n",
       "    .dataframe tbody tr th:only-of-type {\n",
       "        vertical-align: middle;\n",
       "    }\n",
       "\n",
       "    .dataframe tbody tr th {\n",
       "        vertical-align: top;\n",
       "    }\n",
       "\n",
       "    .dataframe thead th {\n",
       "        text-align: right;\n",
       "    }\n",
       "</style>\n",
       "<table border=\"1\" class=\"dataframe\">\n",
       "  <thead>\n",
       "    <tr style=\"text-align: right;\">\n",
       "      <th></th>\n",
       "      <th>max_depth</th>\n",
       "      <th>min_sample_leaves</th>\n",
       "      <th>train_accuracy</th>\n",
       "      <th>validate_accuracy</th>\n",
       "      <th>percent_change_diff</th>\n",
       "    </tr>\n",
       "  </thead>\n",
       "  <tbody>\n",
       "    <tr>\n",
       "      <th>0</th>\n",
       "      <td>10</td>\n",
       "      <td>1</td>\n",
       "      <td>0.91</td>\n",
       "      <td>0.68</td>\n",
       "      <td>24.95</td>\n",
       "    </tr>\n",
       "    <tr>\n",
       "      <th>1</th>\n",
       "      <td>9</td>\n",
       "      <td>2</td>\n",
       "      <td>0.84</td>\n",
       "      <td>0.69</td>\n",
       "      <td>17.35</td>\n",
       "    </tr>\n",
       "    <tr>\n",
       "      <th>2</th>\n",
       "      <td>8</td>\n",
       "      <td>3</td>\n",
       "      <td>0.83</td>\n",
       "      <td>0.73</td>\n",
       "      <td>11.88</td>\n",
       "    </tr>\n",
       "    <tr>\n",
       "      <th>3</th>\n",
       "      <td>7</td>\n",
       "      <td>4</td>\n",
       "      <td>0.84</td>\n",
       "      <td>0.77</td>\n",
       "      <td>7.45</td>\n",
       "    </tr>\n",
       "    <tr>\n",
       "      <th>4</th>\n",
       "      <td>6</td>\n",
       "      <td>5</td>\n",
       "      <td>0.83</td>\n",
       "      <td>0.77</td>\n",
       "      <td>6.32</td>\n",
       "    </tr>\n",
       "    <tr>\n",
       "      <th>5</th>\n",
       "      <td>5</td>\n",
       "      <td>6</td>\n",
       "      <td>0.81</td>\n",
       "      <td>0.79</td>\n",
       "      <td>2.73</td>\n",
       "    </tr>\n",
       "    <tr>\n",
       "      <th>6</th>\n",
       "      <td>4</td>\n",
       "      <td>7</td>\n",
       "      <td>0.79</td>\n",
       "      <td>0.71</td>\n",
       "      <td>10.39</td>\n",
       "    </tr>\n",
       "    <tr>\n",
       "      <th>7</th>\n",
       "      <td>3</td>\n",
       "      <td>8</td>\n",
       "      <td>0.77</td>\n",
       "      <td>0.75</td>\n",
       "      <td>3.26</td>\n",
       "    </tr>\n",
       "    <tr>\n",
       "      <th>8</th>\n",
       "      <td>2</td>\n",
       "      <td>9</td>\n",
       "      <td>0.73</td>\n",
       "      <td>0.69</td>\n",
       "      <td>5.66</td>\n",
       "    </tr>\n",
       "    <tr>\n",
       "      <th>9</th>\n",
       "      <td>1</td>\n",
       "      <td>10</td>\n",
       "      <td>0.74</td>\n",
       "      <td>0.71</td>\n",
       "      <td>5.14</td>\n",
       "    </tr>\n",
       "  </tbody>\n",
       "</table>\n",
       "</div>"
      ],
      "text/plain": [
       "   max_depth  min_sample_leaves  train_accuracy  validate_accuracy  \\\n",
       "0         10                  1            0.91               0.68   \n",
       "1          9                  2            0.84               0.69   \n",
       "2          8                  3            0.83               0.73   \n",
       "3          7                  4            0.84               0.77   \n",
       "4          6                  5            0.83               0.77   \n",
       "5          5                  6            0.81               0.79   \n",
       "6          4                  7            0.79               0.71   \n",
       "7          3                  8            0.77               0.75   \n",
       "8          2                  9            0.73               0.69   \n",
       "9          1                 10            0.74               0.71   \n",
       "\n",
       "   percent_change_diff  \n",
       "0                24.95  \n",
       "1                17.35  \n",
       "2                11.88  \n",
       "3                 7.45  \n",
       "4                 6.32  \n",
       "5                 2.73  \n",
       "6                10.39  \n",
       "7                 3.26  \n",
       "8                 5.66  \n",
       "9                 5.14  "
      ]
     },
     "execution_count": 852,
     "metadata": {},
     "output_type": "execute_result"
    }
   ],
   "source": [
    "# measuring the percent change difference acrross train and validate datasets\n",
    "\n",
    "metrics = []\n",
    "counter = 0\n",
    "for i in range(10, 0, -1):\n",
    "    # Make the model\n",
    "    rf = RandomForestClassifier(max_depth=i, min_samples_leaf = (counter + 1), random_state=123)\n",
    "    counter += 1\n",
    "\n",
    "    # Fit the model (on train and only train)\n",
    "    rf = rf.fit(X_train, y_train)\n",
    "\n",
    "    # Use the model\n",
    "    # We'll evaluate the model's performance on train, first\n",
    "    in_sample_accuracy = rf.score(X_train, y_train)\n",
    "    \n",
    "    out_of_sample_accuracy = rf.score(X_validate, y_validate)\n",
    "\n",
    "    output = {\n",
    "        \"max_depth\": i,\n",
    "        \"min_sample_leaves\": counter,\n",
    "        \"train_accuracy\": in_sample_accuracy,\n",
    "        \"validate_accuracy\": out_of_sample_accuracy\n",
    "    }\n",
    "\n",
    "    metrics.append(output)\n",
    "    \n",
    "df = pd.DataFrame(metrics)\n",
    "df[\"percent_change_diff\"] = ((df.train_accuracy - df.validate_accuracy) / df.train_accuracy) * 100\n",
    "df.round(2)"
   ]
  },
  {
   "cell_type": "markdown",
   "metadata": {},
   "source": [
    "#### Exercise #5: What are the differences in the evaluation metrics?  Which performs better on your in-sample data? Why?\n",
    "\n",
    "<u>**After making a few models, which one has the best performance (or closest metrics) on both train and validate?**</u>\n",
    "\n",
    "----\n",
    "\n",
    "**Train dataset accuracy** = ~81%\n",
    "\n",
    "**Validate dataset accuracy** = ~79%\n",
    "\n",
    "**percentage change difference** = ~2.7%\n",
    "\n",
    "**max_depth** = 5\n",
    "\n",
    "**min sample leaves** = 6\n"
   ]
  },
  {
   "cell_type": "code",
   "execution_count": null,
   "metadata": {},
   "outputs": [],
   "source": []
  }
 ],
 "metadata": {
  "kernelspec": {
   "display_name": "Python 3.9.12 ('base')",
   "language": "python",
   "name": "python3"
  },
  "language_info": {
   "codemirror_mode": {
    "name": "ipython",
    "version": 3
   },
   "file_extension": ".py",
   "mimetype": "text/x-python",
   "name": "python",
   "nbconvert_exporter": "python",
   "pygments_lexer": "ipython3",
   "version": "3.9.12"
  },
  "orig_nbformat": 4,
  "vscode": {
   "interpreter": {
    "hash": "40d3a090f54c6569ab1632332b64b2c03c39dcf918b08424e98f38b5ae0af88f"
   }
  }
 },
 "nbformat": 4,
 "nbformat_minor": 2
}
